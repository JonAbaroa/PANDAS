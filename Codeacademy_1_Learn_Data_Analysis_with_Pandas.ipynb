{
  "nbformat": 4,
  "nbformat_minor": 0,
  "metadata": {
    "colab": {
      "name": "Codeacademy_1_Learn Data Analysis with Pandas.ipynb",
      "provenance": [],
      "collapsed_sections": [
        "dspjSqYDx-Jb",
        "mP4SHkmHTe9C",
        "4sLE_b_ATjVF",
        "XqJfQZ8hjJKd",
        "K5F33mwki_VY",
        "DocFc_3XlzuA",
        "evvJ0RbRmcbX",
        "3oyv-DTknAlX",
        "c8CpPABMnuqt",
        "bVmUJ-ptoN0e",
        "_lJDJTPCoxy2",
        "_msOXrRfpeyT",
        "kZfPoVpkMZif",
        "QFTAsbq_MWWR"
      ],
      "toc_visible": true,
      "authorship_tag": "ABX9TyNDh3yoKl5Cv0KIoN3QkA9x",
      "include_colab_link": true
    },
    "kernelspec": {
      "name": "python3",
      "display_name": "Python 3"
    }
  },
  "cells": [
    {
      "cell_type": "markdown",
      "metadata": {
        "id": "view-in-github",
        "colab_type": "text"
      },
      "source": [
        "<a href=\"https://colab.research.google.com/github/JonAbaroa/PANDAS/blob/main/Codeacademy_1_Learn_Data_Analysis_with_Pandas.ipynb\" target=\"_parent\"><img src=\"https://colab.research.google.com/assets/colab-badge.svg\" alt=\"Open In Colab\"/></a>"
      ]
    },
    {
      "cell_type": "markdown",
      "metadata": {
        "id": "6O4y7FIASb2l"
      },
      "source": [
        "### **Introduction to PANDAS**\n",
        "\n"
      ]
    },
    {
      "cell_type": "markdown",
      "metadata": {
        "id": "dspjSqYDx-Jb"
      },
      "source": [
        "# **Lesson - CREATING, LOADING, AND SELECTING DATA WITH PANDAS**"
      ]
    },
    {
      "cell_type": "code",
      "metadata": {
        "id": "6IUKIOaHx9RO"
      },
      "source": [
        ""
      ],
      "execution_count": null,
      "outputs": []
    },
    {
      "cell_type": "markdown",
      "metadata": {
        "id": "mP4SHkmHTe9C"
      },
      "source": [
        "## **Create our own DataFrame**"
      ]
    },
    {
      "cell_type": "code",
      "metadata": {
        "id": "s_9aCxSMDPA1"
      },
      "source": [
        "import pandas as pd"
      ],
      "execution_count": null,
      "outputs": []
    },
    {
      "cell_type": "code",
      "metadata": {
        "id": "JRn4GcyvC0ep"
      },
      "source": [
        "df1 = pd.DataFrame({\n",
        "    'name': ['John Smith', 'Jane Doe', 'Joe Schmo'],\n",
        "    'address': ['123 Main St.', '456 Maple Ave.', '789 Broadway'],\n",
        "    'age': [34, 28, 51]\n",
        "})"
      ],
      "execution_count": null,
      "outputs": []
    },
    {
      "cell_type": "code",
      "metadata": {
        "id": "LIQkPgZKDagK",
        "outputId": "28beb9bb-0dbb-4c27-8886-a9829f68013f",
        "colab": {
          "base_uri": "https://localhost:8080/"
        }
      },
      "source": [
        "print(df1)"
      ],
      "execution_count": null,
      "outputs": [
        {
          "output_type": "stream",
          "text": [
            "         name         address  age\n",
            "0  John Smith    123 Main St.   34\n",
            "1    Jane Doe  456 Maple Ave.   28\n",
            "2   Joe Schmo    789 Broadway   51\n"
          ],
          "name": "stdout"
        }
      ]
    },
    {
      "cell_type": "code",
      "metadata": {
        "id": "jpt4qUiGEeaT",
        "outputId": "faffa066-2e77-4f75-e357-5576e8b6cd95",
        "colab": {
          "base_uri": "https://localhost:8080/"
        }
      },
      "source": [
        "df2 = pd.DataFrame({\n",
        "  'Product ID': [1, 2, 3, 4],\n",
        "  'Product Name': [\"t-shirt\", \"t-shirt\", \"skirt\", \"skirt\"],\n",
        "  'Color': [\"blue\", \"green\", \"red\", \"black\"],\n",
        "  # add Product Name and Color here\n",
        "})\n",
        "\n",
        "print(df2)"
      ],
      "execution_count": null,
      "outputs": [
        {
          "output_type": "stream",
          "text": [
            "   Product ID Product Name  Color\n",
            "0           1      t-shirt   blue\n",
            "1           2      t-shirt  green\n",
            "2           3        skirt    red\n",
            "3           4        skirt  black\n"
          ],
          "name": "stdout"
        }
      ]
    },
    {
      "cell_type": "code",
      "metadata": {
        "id": "KVAvKb5nGF9z",
        "outputId": "bd5d16ad-951c-425e-d522-9e11bbcc0471",
        "colab": {
          "base_uri": "https://localhost:8080/"
        }
      },
      "source": [
        "df3 = pd.DataFrame([\n",
        "    ['John Smith', '123 Main St.', 34],\n",
        "    ['Jane Doe', '456 Maple Ave.', 28],\n",
        "    ['Joe Schmo', '789 Broadway', 51]\n",
        "    ],\n",
        "    columns=['name', 'address', 'age'])\n",
        "print(df3)"
      ],
      "execution_count": null,
      "outputs": [
        {
          "output_type": "stream",
          "text": [
            "         name         address  age\n",
            "0  John Smith    123 Main St.   34\n",
            "1    Jane Doe  456 Maple Ave.   28\n",
            "2   Joe Schmo    789 Broadway   51\n"
          ],
          "name": "stdout"
        }
      ]
    },
    {
      "cell_type": "code",
      "metadata": {
        "id": "jj8Cb4jCHEQS",
        "outputId": "b2514c33-9985-4b57-a820-00127b232385",
        "colab": {
          "base_uri": "https://localhost:8080/"
        }
      },
      "source": [
        "df4 = pd.DataFrame([\n",
        "  [1, 'San Diego', 100],\n",
        "  [2, 'Los Angeles', 120],\n",
        "  [3, 'San Francisco', 90],\n",
        "  [4, 'Sacramento', 115]\n",
        "],\n",
        "  columns = [\n",
        "    'Store ID', 'Location', 'Number of Employees'\n",
        "  ])\n",
        "\n",
        "print(df4)"
      ],
      "execution_count": null,
      "outputs": [
        {
          "output_type": "stream",
          "text": [
            "   Store ID       Location  Number of Employees\n",
            "0         1      San Diego                  100\n",
            "1         2    Los Angeles                  120\n",
            "2         3  San Francisco                   90\n",
            "3         4     Sacramento                  115\n"
          ],
          "name": "stdout"
        }
      ]
    },
    {
      "cell_type": "markdown",
      "metadata": {
        "id": "4sLE_b_ATjVF"
      },
      "source": [
        "## **Comma Separated Variables (CSV)**\n",
        "\n",
        "One of the most common formats for big datasets is the CSV.\n",
        "\n",
        "CSV (comma separated values) is a text-only spreadsheet format. You can find CSVs in lots of places:"
      ]
    },
    {
      "cell_type": "code",
      "metadata": {
        "id": "3TVpxc9ATmaO",
        "outputId": "f67b99c6-6d08-4238-8b81-2b2154e90069",
        "colab": {
          "base_uri": "https://localhost:8080/"
        }
      },
      "source": [
        "import pandas as pd\n",
        "\n",
        "df = pd.read_csv('nations.csv')\n",
        "print(df)"
      ],
      "execution_count": null,
      "outputs": [
        {
          "output_type": "stream",
          "text": [
            "     Unnamed: 0          country   region  ...   literacy    co2       gini\n",
            "0             1          Algeria   Africa  ...  72.599998  15.00        NaN\n",
            "1             2            Benin   Africa  ...  41.700001   1.20        NaN\n",
            "2             3         Botswana   Africa  ...  84.099998   9.20        NaN\n",
            "3             4     Burkina Faso   Africa  ...  23.600000   0.20        NaN\n",
            "4             5          Burundi   Africa  ...  66.599998   0.10  33.299999\n",
            "..          ...              ...      ...  ...        ...    ...        ...\n",
            "189         190            Samoa  Oceania  ...  98.800003   3.10        NaN\n",
            "190         191  Solomon Islands  Oceania  ...        NaN   1.40        NaN\n",
            "191         192            Tonga  Oceania  ...  99.000000   4.85        NaN\n",
            "192         193           Tuvalu  Oceania  ...        NaN    NaN        NaN\n",
            "193         194          Vanuatu  Oceania  ...  82.000000   1.50        NaN\n",
            "\n",
            "[194 rows x 14 columns]\n"
          ],
          "name": "stdout"
        }
      ]
    },
    {
      "cell_type": "code",
      "metadata": {
        "id": "5KKh57vyY1t_"
      },
      "source": [
        "df.to_csv('new-csv-file.csv')"
      ],
      "execution_count": null,
      "outputs": []
    },
    {
      "cell_type": "markdown",
      "metadata": {
        "id": "XqJfQZ8hjJKd"
      },
      "source": [
        "## **Inspect a DataFrame**\n",
        "\n",
        "When we load a new DataFrame from a CSV, we want to know what it looks like."
      ]
    },
    {
      "cell_type": "code",
      "metadata": {
        "id": "q4o0FvizZOeK",
        "outputId": "ab79790e-5187-4aa0-c26d-5bc02c47b2f9",
        "colab": {
          "base_uri": "https://localhost:8080/"
        }
      },
      "source": [
        "# The method .head() gives the first 5 rows of a DataFrame. If you want to see more rows, \n",
        "# you can pass in the positional argument n. For example, df.head(10) would show the first 10 rows.\n",
        "\n",
        "df = pd.read_csv('new-csv-file.csv')\n",
        "\n",
        "print(df.head())\n",
        "\n"
      ],
      "execution_count": null,
      "outputs": [
        {
          "output_type": "stream",
          "text": [
            "   Unnamed: 0  Unnamed: 0.1       country  ...   literacy   co2       gini\n",
            "0           0             1       Algeria  ...  72.599998  15.0        NaN\n",
            "1           1             2         Benin  ...  41.700001   1.2        NaN\n",
            "2           2             3      Botswana  ...  84.099998   9.2        NaN\n",
            "3           3             4  Burkina Faso  ...  23.600000   0.2        NaN\n",
            "4           4             5       Burundi  ...  66.599998   0.1  33.299999\n",
            "\n",
            "[5 rows x 15 columns]\n"
          ],
          "name": "stdout"
        }
      ]
    },
    {
      "cell_type": "code",
      "metadata": {
        "id": "VsWUPCZYZlon",
        "outputId": "ce204b7c-8a93-4fdd-9f8f-385939f42953",
        "colab": {
          "base_uri": "https://localhost:8080/"
        }
      },
      "source": [
        "# The method df.info() gives some statistics for each column.\n",
        "\n",
        "print(df.info())"
      ],
      "execution_count": null,
      "outputs": [
        {
          "output_type": "stream",
          "text": [
            "<class 'pandas.core.frame.DataFrame'>\n",
            "RangeIndex: 194 entries, 0 to 193\n",
            "Data columns (total 15 columns):\n",
            " #   Column        Non-Null Count  Dtype  \n",
            "---  ------        --------------  -----  \n",
            " 0   Unnamed: 0    194 non-null    int64  \n",
            " 1   Unnamed: 0.1  194 non-null    int64  \n",
            " 2   country       194 non-null    object \n",
            " 3   region        194 non-null    object \n",
            " 4   gdp           179 non-null    float64\n",
            " 5   school        188 non-null    float64\n",
            " 6   adfert        194 non-null    float64\n",
            " 7   chldmort      193 non-null    float64\n",
            " 8   life          194 non-null    float64\n",
            " 9   pop           194 non-null    int64  \n",
            " 10  urban         194 non-null    float64\n",
            " 11  femlab        177 non-null    float64\n",
            " 12  literacy      135 non-null    float64\n",
            " 13  co2           185 non-null    float64\n",
            " 14  gini          81 non-null     float64\n",
            "dtypes: float64(10), int64(3), object(2)\n",
            "memory usage: 22.9+ KB\n",
            "None\n"
          ],
          "name": "stdout"
        }
      ]
    },
    {
      "cell_type": "markdown",
      "metadata": {
        "id": "K5F33mwki_VY"
      },
      "source": [
        "## **Select Columns**\n",
        "\n",
        "Now we know how to create and load data. Let’s select parts of those datasets that are interesting or important to our analyses."
      ]
    },
    {
      "cell_type": "code",
      "metadata": {
        "id": "bGRtvZG4jBI1",
        "outputId": "3cdeaef5-c0d2-4f7a-b950-74fe80669348",
        "colab": {
          "base_uri": "https://localhost:8080/"
        }
      },
      "source": [
        "df = pd.DataFrame([\n",
        "  ['January', 100, 100, 23, 100],\n",
        "  ['February', 51, 45, 145, 45],\n",
        "  ['March', 81, 96, 65, 96],\n",
        "  ['April', 80, 80, 54, 180],\n",
        "  ['May', 51, 54, 54, 154],\n",
        "  ['June', 112, 109, 79, 129]],\n",
        "  columns=['month', 'clinic_east',\n",
        "           'clinic_north', 'clinic_south',\n",
        "           'clinic_west']\n",
        ")\n",
        "print(df)"
      ],
      "execution_count": null,
      "outputs": [
        {
          "output_type": "stream",
          "text": [
            "      month  clinic_east  clinic_north  clinic_south  clinic_west\n",
            "0   January          100           100            23          100\n",
            "1  February           51            45           145           45\n",
            "2     March           81            96            65           96\n",
            "3     April           80            80            54          180\n",
            "4       May           51            54            54          154\n",
            "5      June          112           109            79          129\n"
          ],
          "name": "stdout"
        }
      ]
    },
    {
      "cell_type": "code",
      "metadata": {
        "id": "Mqdz1gsRkR5G",
        "outputId": "a605433a-1a5c-4d8d-d58b-9717631ecc15",
        "colab": {
          "base_uri": "https://localhost:8080/"
        }
      },
      "source": [
        "clinic_north = df.clinic_north\n",
        "print(clinic_north)"
      ],
      "execution_count": null,
      "outputs": [
        {
          "output_type": "stream",
          "text": [
            "0    100\n",
            "1     45\n",
            "2     96\n",
            "3     80\n",
            "4     54\n",
            "5    109\n",
            "Name: clinic_north, dtype: int64\n"
          ],
          "name": "stdout"
        }
      ]
    },
    {
      "cell_type": "code",
      "metadata": {
        "id": "71BYWE6FkcqL",
        "outputId": "c81f3820-a323-4eab-aafd-65390457381f",
        "colab": {
          "base_uri": "https://localhost:8080/"
        }
      },
      "source": [
        "print(type(clinic_north))\n",
        "print(type(df))"
      ],
      "execution_count": null,
      "outputs": [
        {
          "output_type": "stream",
          "text": [
            "<class 'pandas.core.series.Series'>\n",
            "<class 'pandas.core.frame.DataFrame'>\n"
          ],
          "name": "stdout"
        }
      ]
    },
    {
      "cell_type": "markdown",
      "metadata": {
        "id": "MFN1kfiFkhnM"
      },
      "source": [
        "## **Selecting Multiple Columns**\n",
        "\n",
        "When you have a larger DataFrame, you might want to select just a few columns."
      ]
    },
    {
      "cell_type": "code",
      "metadata": {
        "id": "EM2g4k5akjVc",
        "outputId": "078fc3ea-1c9f-4c97-8519-389e903e7334",
        "colab": {
          "base_uri": "https://localhost:8080/"
        }
      },
      "source": [
        "df = pd.DataFrame([\n",
        "  ['January', 100, 100, 23, 100],\n",
        "  ['February', 51, 45, 145, 45],\n",
        "  ['March', 81, 96, 65, 96],\n",
        "  ['April', 80, 80, 54, 180],\n",
        "  ['May', 51, 54, 54, 154],\n",
        "  ['June', 112, 109, 79, 129]],\n",
        "  columns=['month', 'clinic_east',\n",
        "           'clinic_north', 'clinic_south',\n",
        "           'clinic_west']\n",
        ")\n",
        "\n",
        "clinic_north_south = df[['clinic_north','clinic_south']]\n",
        "\n",
        "print(clinic_north_south)\n",
        "\n",
        "print(type(clinic_north_south))"
      ],
      "execution_count": null,
      "outputs": [
        {
          "output_type": "stream",
          "text": [
            "   clinic_north  clinic_south\n",
            "0           100            23\n",
            "1            45           145\n",
            "2            96            65\n",
            "3            80            54\n",
            "4            54            54\n",
            "5           109            79\n",
            "<class 'pandas.core.frame.DataFrame'>\n"
          ],
          "name": "stdout"
        }
      ]
    },
    {
      "cell_type": "markdown",
      "metadata": {
        "id": "DocFc_3XlzuA"
      },
      "source": [
        "## **Select Rows**"
      ]
    },
    {
      "cell_type": "code",
      "metadata": {
        "id": "drynYOU1l1Gg",
        "outputId": "54ae27b8-55e8-4991-9ac2-3c2066817778",
        "colab": {
          "base_uri": "https://localhost:8080/"
        }
      },
      "source": [
        "df = pd.DataFrame([\n",
        "  ['January', 100, 100, 23, 100],\n",
        "  ['February', 51, 45, 145, 45],\n",
        "  ['March', 81, 96, 65, 96],\n",
        "  ['April', 80, 80, 54, 180],\n",
        "  ['May', 51, 54, 54, 154],\n",
        "  ['June', 112, 109, 79, 129]],\n",
        "  columns=['month', 'clinic_east',\n",
        "           'clinic_north', 'clinic_south',\n",
        "           'clinic_west'])\n",
        "\n",
        "march = df.iloc[2]\n",
        "\n",
        "print(march)"
      ],
      "execution_count": null,
      "outputs": [
        {
          "output_type": "stream",
          "text": [
            "month           March\n",
            "clinic_east        81\n",
            "clinic_north       96\n",
            "clinic_south       65\n",
            "clinic_west        96\n",
            "Name: 2, dtype: object\n"
          ],
          "name": "stdout"
        }
      ]
    },
    {
      "cell_type": "markdown",
      "metadata": {
        "id": "evvJ0RbRmcbX"
      },
      "source": [
        "## **Selecting Multiple Rows**\n",
        "\n",
        "You can also select multiple rows from a DataFrame."
      ]
    },
    {
      "cell_type": "code",
      "metadata": {
        "id": "pZjUAQ0emh4X",
        "outputId": "63fae112-4811-4d42-ec33-b5a1ea5bcc30",
        "colab": {
          "base_uri": "https://localhost:8080/"
        }
      },
      "source": [
        "df = pd.DataFrame([\n",
        "  ['January', 100, 100, 23, 100],\n",
        "  ['February', 51, 45, 145, 45],\n",
        "  ['March', 81, 96, 65, 96],\n",
        "  ['April', 80, 80, 54, 180],\n",
        "  ['May', 51, 54, 54, 154],\n",
        "  ['June', 112, 109, 79, 129]],\n",
        "  columns=['month', 'clinic_east',\n",
        "           'clinic_north', 'clinic_south',\n",
        "           'clinic_west']\n",
        ")\n",
        "\n",
        "april_may_june = df.iloc[3:6]\n",
        "\n",
        "print(april_may_june)"
      ],
      "execution_count": null,
      "outputs": [
        {
          "output_type": "stream",
          "text": [
            "   month  clinic_east  clinic_north  clinic_south  clinic_west\n",
            "3  April           80            80            54          180\n",
            "4    May           51            54            54          154\n",
            "5   June          112           109            79          129\n"
          ],
          "name": "stdout"
        }
      ]
    },
    {
      "cell_type": "markdown",
      "metadata": {
        "id": "3oyv-DTknAlX"
      },
      "source": [
        "## **Select Rows with Logic I**\n",
        "\n",
        "You can select a subset of a DataFrame by using logical statements:"
      ]
    },
    {
      "cell_type": "code",
      "metadata": {
        "id": "CUHpF-96m-U2",
        "outputId": "6ad20859-2360-4cfe-a26d-01b046bb7826",
        "colab": {
          "base_uri": "https://localhost:8080/"
        }
      },
      "source": [
        "df = pd.DataFrame([\n",
        "  ['January', 100, 100, 23, 100],\n",
        "  ['February', 51, 45, 145, 45],\n",
        "  ['March', 81, 96, 65, 96],\n",
        "  ['April', 80, 80, 54, 180],\n",
        "  ['May', 51, 54, 54, 154],\n",
        "  ['June', 112, 109, 79, 129]],\n",
        "  columns=['month', 'clinic_east',\n",
        "           'clinic_north', 'clinic_south',\n",
        "           'clinic_west'])\n",
        "\n",
        "january = df[df.month == 'January']\n",
        "\n",
        "print(january)"
      ],
      "execution_count": null,
      "outputs": [
        {
          "output_type": "stream",
          "text": [
            "     month  clinic_east  clinic_north  clinic_south  clinic_west\n",
            "0  January          100           100            23          100\n"
          ],
          "name": "stdout"
        }
      ]
    },
    {
      "cell_type": "markdown",
      "metadata": {
        "id": "c8CpPABMnuqt"
      },
      "source": [
        "## **Select Rows with Logic II**\n",
        "\n",
        "You can also combine multiple logical statements, as long as each statement is in parentheses."
      ]
    },
    {
      "cell_type": "code",
      "metadata": {
        "id": "dQxg2pRYnyl2",
        "outputId": "e673a60d-3c0f-4727-fae6-7b24c644af17",
        "colab": {
          "base_uri": "https://localhost:8080/"
        }
      },
      "source": [
        "df = pd.DataFrame([\n",
        "  ['January', 100, 100, 23, 100],\n",
        "  ['February', 51, 45, 145, 45],\n",
        "  ['March', 81, 96, 65, 96],\n",
        "  ['April', 80, 80, 54, 180],\n",
        "  ['May', 51, 54, 54, 154],\n",
        "  ['June', 112, 109, 79, 129]],\n",
        "  columns=['month', 'clinic_east',\n",
        "           'clinic_north', 'clinic_south',\n",
        "           'clinic_west'])\n",
        "\n",
        "march_april = df[(df.month == 'March') | (df.month == 'April')]\n",
        "\n",
        "print(march_april)"
      ],
      "execution_count": null,
      "outputs": [
        {
          "output_type": "stream",
          "text": [
            "   month  clinic_east  clinic_north  clinic_south  clinic_west\n",
            "2  March           81            96            65           96\n",
            "3  April           80            80            54          180\n"
          ],
          "name": "stdout"
        }
      ]
    },
    {
      "cell_type": "markdown",
      "metadata": {
        "id": "bVmUJ-ptoN0e"
      },
      "source": [
        "## **Select Rows with Logic III**"
      ]
    },
    {
      "cell_type": "code",
      "metadata": {
        "id": "FTbd0gGOoPIl",
        "outputId": "06c7e95d-faf6-454f-a77c-313c2d9881fd",
        "colab": {
          "base_uri": "https://localhost:8080/"
        }
      },
      "source": [
        "df = pd.DataFrame([\n",
        "  ['January', 100, 100, 23, 100],\n",
        "  ['February', 51, 45, 145, 45],\n",
        "  ['March', 81, 96, 65, 96],\n",
        "  ['April', 80, 80, 54, 180],\n",
        "  ['May', 51, 54, 54, 154],\n",
        "  ['June', 112, 109, 79, 129]],\n",
        "  columns=['month', 'clinic_east',\n",
        "           'clinic_north', 'clinic_south',\n",
        "           'clinic_west'])\n",
        "\n",
        "january_february_march = df[df.month.isin(['January', 'February', 'March'])]\n",
        "\n",
        "print(january_february_march)"
      ],
      "execution_count": null,
      "outputs": [
        {
          "output_type": "stream",
          "text": [
            "      month  clinic_east  clinic_north  clinic_south  clinic_west\n",
            "0   January          100           100            23          100\n",
            "1  February           51            45           145           45\n",
            "2     March           81            96            65           96\n"
          ],
          "name": "stdout"
        }
      ]
    },
    {
      "cell_type": "markdown",
      "metadata": {
        "id": "_lJDJTPCoxy2"
      },
      "source": [
        "## **Setting indices**\n",
        "\n",
        "When we select a subset of a DataFrame using logic, we end up with non-consecutive indices. This is inelegant and makes it hard to use .iloc().\n",
        "\n",
        "We can fix this using the method .reset_index(). For example, here is a DataFrame called df with non-consecutive indices:"
      ]
    },
    {
      "cell_type": "code",
      "metadata": {
        "id": "ZqjtTfALozya",
        "outputId": "c2bc3b1b-75fb-489e-92cc-bde2f95bae66",
        "colab": {
          "base_uri": "https://localhost:8080/"
        }
      },
      "source": [
        "df = pd.DataFrame([\n",
        "  ['January', 100, 100, 23, 100],\n",
        "  ['February', 51, 45, 145, 45],\n",
        "  ['March', 81, 96, 65, 96],\n",
        "  ['April', 80, 80, 54, 180],\n",
        "  ['May', 51, 54, 54, 154],\n",
        "  ['June', 112, 109, 79, 129]],\n",
        "  columns=['month', 'clinic_east',\n",
        "           'clinic_north', 'clinic_south',\n",
        "           'clinic_west']\n",
        ")\n",
        "\n",
        "df2 = df.loc[[1, 3, 5]]\n",
        "\n",
        "print(df2)"
      ],
      "execution_count": null,
      "outputs": [
        {
          "output_type": "stream",
          "text": [
            "      month  clinic_east  clinic_north  clinic_south  clinic_west\n",
            "1  February           51            45           145           45\n",
            "3     April           80            80            54          180\n",
            "5      June          112           109            79          129\n"
          ],
          "name": "stdout"
        }
      ]
    },
    {
      "cell_type": "code",
      "metadata": {
        "id": "wN52ZPylpJDF",
        "outputId": "5abd9a33-14ed-4f6c-9ace-c6078b97b7fd",
        "colab": {
          "base_uri": "https://localhost:8080/"
        }
      },
      "source": [
        "df3 = df2.reset_index()\n",
        "\n",
        "print(df3)"
      ],
      "execution_count": null,
      "outputs": [
        {
          "output_type": "stream",
          "text": [
            "   index     month  clinic_east  clinic_north  clinic_south  clinic_west\n",
            "0      1  February           51            45           145           45\n",
            "1      3     April           80            80            54          180\n",
            "2      5      June          112           109            79          129\n"
          ],
          "name": "stdout"
        }
      ]
    },
    {
      "cell_type": "code",
      "metadata": {
        "id": "4f-dGMd0pLsE",
        "outputId": "03921bbb-9b7c-45ef-d12d-37be534d4ba8",
        "colab": {
          "base_uri": "https://localhost:8080/"
        }
      },
      "source": [
        "\n",
        "df2.reset_index(inplace = True, drop = True)\n",
        "\n",
        "print(df2)"
      ],
      "execution_count": null,
      "outputs": [
        {
          "output_type": "stream",
          "text": [
            "      month  clinic_east  clinic_north  clinic_south  clinic_west\n",
            "0  February           51            45           145           45\n",
            "1     April           80            80            54          180\n",
            "2      June          112           109            79          129\n"
          ],
          "name": "stdout"
        }
      ]
    },
    {
      "cell_type": "markdown",
      "metadata": {
        "id": "_msOXrRfpeyT"
      },
      "source": [
        "## **Review**\n",
        "\n",
        "You’ve completed the lesson! You’ve just learned the basics of working with a single table in Pandas, including:\n",
        "\n",
        "Create a table from scratch\n",
        "Loading data from another file\n",
        "Selecting certain rows or columns of a table\n",
        "Let’s practice what you’ve learned."
      ]
    },
    {
      "cell_type": "code",
      "metadata": {
        "id": "EHV2S0X0pgp5",
        "outputId": "dfdbef20-4377-4db5-f69c-c435af6e40a7",
        "colab": {
          "base_uri": "https://localhost:8080/"
        }
      },
      "source": [
        "#Part 1: reading the csv\n",
        "orders = pd.read_csv('nations.csv')\n",
        "print(orders)"
      ],
      "execution_count": null,
      "outputs": [
        {
          "output_type": "stream",
          "text": [
            "     Unnamed: 0          country   region  ...   literacy    co2       gini\n",
            "0             1          Algeria   Africa  ...  72.599998  15.00        NaN\n",
            "1             2            Benin   Africa  ...  41.700001   1.20        NaN\n",
            "2             3         Botswana   Africa  ...  84.099998   9.20        NaN\n",
            "3             4     Burkina Faso   Africa  ...  23.600000   0.20        NaN\n",
            "4             5          Burundi   Africa  ...  66.599998   0.10  33.299999\n",
            "..          ...              ...      ...  ...        ...    ...        ...\n",
            "189         190            Samoa  Oceania  ...  98.800003   3.10        NaN\n",
            "190         191  Solomon Islands  Oceania  ...        NaN   1.40        NaN\n",
            "191         192            Tonga  Oceania  ...  99.000000   4.85        NaN\n",
            "192         193           Tuvalu  Oceania  ...        NaN    NaN        NaN\n",
            "193         194          Vanuatu  Oceania  ...  82.000000   1.50        NaN\n",
            "\n",
            "[194 rows x 14 columns]\n"
          ],
          "name": "stdout"
        }
      ]
    },
    {
      "cell_type": "code",
      "metadata": {
        "id": "TeP70U51sGgv",
        "outputId": "28415883-9c48-4ce2-dc7f-e258a240e464",
        "colab": {
          "base_uri": "https://localhost:8080/"
        }
      },
      "source": [
        "#Part 2: inspecting the first five lines of data\n",
        "print(orders.head(5))"
      ],
      "execution_count": null,
      "outputs": [
        {
          "output_type": "stream",
          "text": [
            "   Unnamed: 0       country  region  ...   literacy   co2       gini\n",
            "0           1       Algeria  Africa  ...  72.599998  15.0        NaN\n",
            "1           2         Benin  Africa  ...  41.700001   1.2        NaN\n",
            "2           3      Botswana  Africa  ...  84.099998   9.2        NaN\n",
            "3           4  Burkina Faso  Africa  ...  23.600000   0.2        NaN\n",
            "4           5       Burundi  Africa  ...  66.599998   0.1  33.299999\n",
            "\n",
            "[5 rows x 14 columns]\n"
          ],
          "name": "stdout"
        }
      ]
    },
    {
      "cell_type": "code",
      "metadata": {
        "id": "MbxpJ-sdsPeM",
        "outputId": "671a7091-a757-463d-d385-a4933a226b63",
        "colab": {
          "base_uri": "https://localhost:8080/"
        }
      },
      "source": [
        "\n",
        "#Part 3: selecting the column 'country'\n",
        "country = orders.country\n",
        "print(country)"
      ],
      "execution_count": null,
      "outputs": [
        {
          "output_type": "stream",
          "text": [
            "0              Algeria\n",
            "1                Benin\n",
            "2             Botswana\n",
            "3         Burkina Faso\n",
            "4              Burundi\n",
            "            ...       \n",
            "189              Samoa\n",
            "190    Solomon Islands\n",
            "191              Tonga\n",
            "192             Tuvalu\n",
            "193            Vanuatu\n",
            "Name: country, Length: 194, dtype: object\n"
          ],
          "name": "stdout"
        }
      ]
    },
    {
      "cell_type": "code",
      "metadata": {
        "id": "mXZVt1lysX90",
        "outputId": "44ba6dce-1eb6-4d13-b075-0de75f988be9",
        "colab": {
          "base_uri": "https://localhost:8080/"
        }
      },
      "source": [
        "#Part 4: the country region incident\n",
        "country_region = orders[(orders.country == 'Algeria') & (orders.region == 'Africa')]\n",
        "print(country_region)"
      ],
      "execution_count": null,
      "outputs": [
        {
          "output_type": "stream",
          "text": [
            "   Unnamed: 0  country  region          gdp  ...  femlab   literacy   co2  gini\n",
            "0           1  Algeria  Africa  7300.399902  ...  0.4522  72.599998  15.0   NaN\n",
            "\n",
            "[1 rows x 14 columns]\n"
          ],
          "name": "stdout"
        }
      ]
    },
    {
      "cell_type": "code",
      "metadata": {
        "id": "rbSpBdtdt5Dt"
      },
      "source": [
        "#Part 5: Comfy feet means more time on the street\n",
        "comfy_shoes = orders[orders.shoe_type.isin(['clogs', 'boots', 'ballet flats'])]\n",
        "\n",
        "print(comfy_shoes)"
      ],
      "execution_count": null,
      "outputs": []
    },
    {
      "cell_type": "markdown",
      "metadata": {
        "id": "dGel5aO4SZhy"
      },
      "source": [
        ""
      ]
    },
    {
      "cell_type": "markdown",
      "metadata": {
        "id": "D2JxARZ6xEU_"
      },
      "source": [
        "# **Lesson - MODIFYING DATAFRAMES**"
      ]
    },
    {
      "cell_type": "markdown",
      "metadata": {
        "id": "E69jmkP3xumB"
      },
      "source": [
        "## **MODIFYING DATAFRAMES - Adding a Column I**\n",
        "\n",
        "Sometimes, we want to add a column to an existing DataFrame. We might want to add new information or perform a calculation based on the data that we already have."
      ]
    },
    {
      "cell_type": "markdown",
      "metadata": {
        "id": "kZfPoVpkMZif"
      },
      "source": [
        "## **Adding a Column I**\n",
        "\n",
        "Sometimes, we want to add a column to an existing DataFrame."
      ]
    },
    {
      "cell_type": "code",
      "metadata": {
        "id": "XhZ7NbeBycNS",
        "outputId": "f52f5b92-841a-45f9-cc17-3363dfe6f895",
        "colab": {
          "base_uri": "https://localhost:8080/"
        }
      },
      "source": [
        "df = pd.DataFrame([\n",
        "  [1, '3 inch screw', 0.5, 0.75],\n",
        "  [2, '2 inch nail', 0.10, 0.25],\n",
        "  [3, 'hammer', 3.00, 5.50],\n",
        "  [4, 'screwdriver', 2.50, 3.00]\n",
        "],\n",
        "  columns=['Product ID', 'Description', 'Cost to Manufacture', 'Price']\n",
        ")\n",
        "\n",
        "df['Sold in Bulk?'] = ['Yes', 'Yes', 'No', 'No']\n",
        "\n",
        "print(df)"
      ],
      "execution_count": null,
      "outputs": [
        {
          "output_type": "stream",
          "text": [
            "   Product ID   Description  Cost to Manufacture  Price Sold in Bulk?\n",
            "0           1  3 inch screw                  0.5   0.75           Yes\n",
            "1           2   2 inch nail                  0.1   0.25           Yes\n",
            "2           3        hammer                  3.0   5.50            No\n",
            "3           4   screwdriver                  2.5   3.00            No\n"
          ],
          "name": "stdout"
        }
      ]
    },
    {
      "cell_type": "markdown",
      "metadata": {
        "id": "QFTAsbq_MWWR"
      },
      "source": [
        "## **Adding a Column II**\n",
        "\n",
        "We can also add a new column that is the same for all rows in the DataFrame."
      ]
    },
    {
      "cell_type": "code",
      "metadata": {
        "id": "qw9ZmQ4yMg9g",
        "outputId": "83e786ca-e942-4b37-9c9e-d2dcde7ddf0f",
        "colab": {
          "base_uri": "https://localhost:8080/"
        }
      },
      "source": [
        "df = pd.DataFrame([\n",
        "  [1, '3 inch screw', 0.5, 0.75],\n",
        "  [2, '2 inch nail', 0.10, 0.25],\n",
        "  [3, 'hammer', 3.00, 5.50],\n",
        "  [4, 'screwdriver', 2.50, 3.00]\n",
        "],\n",
        "  columns=['Product ID', 'Description', 'Cost to Manufacture', 'Price']\n",
        ")\n",
        "\n",
        "df['Is taxed?'] = 'Yes'\n",
        "\n",
        "print(df)"
      ],
      "execution_count": null,
      "outputs": [
        {
          "output_type": "stream",
          "text": [
            "   Product ID   Description  Cost to Manufacture  Price Is taxed?\n",
            "0           1  3 inch screw                  0.5   0.75       Yes\n",
            "1           2   2 inch nail                  0.1   0.25       Yes\n",
            "2           3        hammer                  3.0   5.50       Yes\n",
            "3           4   screwdriver                  2.5   3.00       Yes\n"
          ],
          "name": "stdout"
        }
      ]
    },
    {
      "cell_type": "markdown",
      "metadata": {
        "id": "QhbNbIGFM3gy"
      },
      "source": [
        "## **Adding a Column III**\n",
        "\n",
        "Finally, you can add a new column by performing a function on the existing columns."
      ]
    },
    {
      "cell_type": "code",
      "metadata": {
        "id": "1euQnT9iM6cN",
        "outputId": "f5ea5c9b-6d09-4f66-b558-cea3cfa488ef",
        "colab": {
          "base_uri": "https://localhost:8080/"
        }
      },
      "source": [
        "df = pd.DataFrame([\n",
        "  [1, '3 inch screw', 0.5, 0.75],\n",
        "  [2, '2 inch nail', 0.10, 0.25],\n",
        "  [3, 'hammer', 3.00, 5.50],\n",
        "  [4, 'screwdriver', 2.50, 3.00]\n",
        "],\n",
        "  columns=['Product ID', 'Description', 'Cost to Manufacture', 'Price']\n",
        ")\n",
        "\n",
        "df['Margin'] = df['Price'] - df['Cost to Manufacture']\n",
        "\n",
        "print(df)"
      ],
      "execution_count": null,
      "outputs": [
        {
          "output_type": "stream",
          "text": [
            "   Product ID   Description  Cost to Manufacture  Price  Margin\n",
            "0           1  3 inch screw                  0.5   0.75    0.25\n",
            "1           2   2 inch nail                  0.1   0.25    0.15\n",
            "2           3        hammer                  3.0   5.50    2.50\n",
            "3           4   screwdriver                  2.5   3.00    0.50\n"
          ],
          "name": "stdout"
        }
      ]
    },
    {
      "cell_type": "markdown",
      "metadata": {
        "id": "_wUvcx8lM7q-"
      },
      "source": [
        "## **Performing Column Operations**"
      ]
    },
    {
      "cell_type": "code",
      "metadata": {
        "id": "PJFiRAQHNXbm",
        "outputId": "eb84b4d3-27ac-4357-c6b3-f20e8744ec7a",
        "colab": {
          "base_uri": "https://localhost:8080/"
        }
      },
      "source": [
        "df = pd.DataFrame([\n",
        "  ['JOHN SMITH', 'john.smith@gmail.com'],\n",
        "  ['Jane Doe', 'jdoe@yahoo.com'],\n",
        "  ['joe schmo', 'joeschmo@hotmail.com']\n",
        "],\n",
        "columns=['Name', 'Email'])\n",
        "\n",
        "df['Lowercase Name'] = df.Name.apply(str.lower)\n",
        "\n",
        "print(df)"
      ],
      "execution_count": null,
      "outputs": [
        {
          "output_type": "stream",
          "text": [
            "         Name                 Email Lowercase Name\n",
            "0  JOHN SMITH  john.smith@gmail.com     john smith\n",
            "1    Jane Doe        jdoe@yahoo.com       jane doe\n",
            "2   joe schmo  joeschmo@hotmail.com      joe schmo\n"
          ],
          "name": "stdout"
        }
      ]
    },
    {
      "cell_type": "markdown",
      "metadata": {
        "id": "-wcIa62gM7d2"
      },
      "source": [
        "## **Reviewing Lambda Function**\n",
        "\n",
        "A lambda function is a way of defining a function in a single line of code. Usually, we would assign them to a variable.\n",
        "\n",
        "In general, the syntax for an if function in a lambda function is:\n",
        "\n",
        "lambda x: [OUTCOME IF TRUE] if [CONDITIONAL] else [OUTCOME IF FALSE]"
      ]
    },
    {
      "cell_type": "code",
      "metadata": {
        "id": "EV2eMuU0Pr9q",
        "outputId": "5a985070-02ae-4bb4-8d98-0a8d116e27ae",
        "colab": {
          "base_uri": "https://localhost:8080/"
        }
      },
      "source": [
        "mylambdaA = lambda x: (x * 2) + 3\n",
        "print(mylambdaA(5))"
      ],
      "execution_count": null,
      "outputs": [
        {
          "output_type": "stream",
          "text": [
            "13\n"
          ],
          "name": "stdout"
        }
      ]
    },
    {
      "cell_type": "code",
      "metadata": {
        "id": "Idg6r5xFQ82u",
        "outputId": "780dc81f-f903-4826-8a56-86ed933e677e",
        "colab": {
          "base_uri": "https://localhost:8080/"
        }
      },
      "source": [
        "stringlambdaB = lambda x: x.lower()\n",
        "print(stringlambdaB(\"Oh Hi Mark!\"))"
      ],
      "execution_count": null,
      "outputs": [
        {
          "output_type": "stream",
          "text": [
            "oh hi mark!\n"
          ],
          "name": "stdout"
        }
      ]
    },
    {
      "cell_type": "code",
      "metadata": {
        "id": "84pONZg1RADv",
        "outputId": "94c34945-7fa3-49bc-80bf-23d915378e35",
        "colab": {
          "base_uri": "https://localhost:8080/"
        }
      },
      "source": [
        "mylambdaC = lambda x: x[0]+x[-1]\n",
        "print(mylambdaC('Hello World'))"
      ],
      "execution_count": null,
      "outputs": [
        {
          "output_type": "stream",
          "text": [
            "Hd\n"
          ],
          "name": "stdout"
        }
      ]
    },
    {
      "cell_type": "markdown",
      "metadata": {
        "id": "oEsO5tWrM7VF"
      },
      "source": [
        "## **Reviewing Lambda Function: If Statements**\n",
        "\n",
        "We can make our lambdas more complex by using a modified form of an if statement.\n",
        "\n",
        "In general, the syntax for an if function in a lambda function is:\n",
        "\n",
        "lambda x: [OUTCOME IF TRUE] if [CONDITIONAL] else [OUTCOME IF FALSE]"
      ]
    },
    {
      "cell_type": "code",
      "metadata": {
        "id": "2wNrJlgQVcQy"
      },
      "source": [
        "def myfunction(x):\n",
        "    if x > 40:\n",
        "        return 40 + (x - 40) * 1.50\n",
        "    else:\n",
        "        return x"
      ],
      "execution_count": null,
      "outputs": []
    },
    {
      "cell_type": "code",
      "metadata": {
        "id": "8L-yI9KJV4Hl",
        "outputId": "678b764d-b229-4433-86c6-9c24537c42c8",
        "colab": {
          "base_uri": "https://localhost:8080/"
        }
      },
      "source": [
        "myfunction(5)"
      ],
      "execution_count": null,
      "outputs": [
        {
          "output_type": "execute_result",
          "data": {
            "text/plain": [
              "5"
            ]
          },
          "metadata": {
            "tags": []
          },
          "execution_count": 57
        }
      ]
    },
    {
      "cell_type": "code",
      "metadata": {
        "id": "zxiw_r45WDmk"
      },
      "source": [
        "myfunction = lambda x: 40 + (x - 40) * 1.50 if x > 40 else x"
      ],
      "execution_count": null,
      "outputs": []
    },
    {
      "cell_type": "code",
      "metadata": {
        "id": "j7A_ejuXWMOE",
        "outputId": "af5bc560-891c-4895-c987-bbe2d596e37d",
        "colab": {
          "base_uri": "https://localhost:8080/"
        }
      },
      "source": [
        "myfunction(5)"
      ],
      "execution_count": null,
      "outputs": [
        {
          "output_type": "execute_result",
          "data": {
            "text/plain": [
              "5"
            ]
          },
          "metadata": {
            "tags": []
          },
          "execution_count": 59
        }
      ]
    },
    {
      "cell_type": "code",
      "metadata": {
        "id": "un8qxQzfWeyU"
      },
      "source": [
        "mylambda = lambda x: 'Welcome to BattleCity!' \\\n",
        "\tif x >= 13 \\\n",
        "  else 'You must be over 13'"
      ],
      "execution_count": null,
      "outputs": []
    },
    {
      "cell_type": "code",
      "metadata": {
        "id": "MewgfrPdWgu8",
        "outputId": "60e3c18f-37ab-44f4-abe2-6c9d550d6131",
        "colab": {
          "base_uri": "https://localhost:8080/",
          "height": 35
        }
      },
      "source": [
        "mylambda(13)"
      ],
      "execution_count": null,
      "outputs": [
        {
          "output_type": "execute_result",
          "data": {
            "application/vnd.google.colaboratory.intrinsic+json": {
              "type": "string"
            },
            "text/plain": [
              "'Welcome to BattleCity!'"
            ]
          },
          "metadata": {
            "tags": []
          },
          "execution_count": 61
        }
      ]
    },
    {
      "cell_type": "markdown",
      "metadata": {
        "id": "yd9Q4w2rM7MO"
      },
      "source": [
        "## **Applying a Lambda to a Column**\n",
        "\n",
        "In Pandas, we often use lambda functions to perform complex operations on columns. "
      ]
    },
    {
      "cell_type": "code",
      "metadata": {
        "id": "RnJ_ONPLWsA-",
        "outputId": "fbbc7e49-4661-4364-a081-551b41d0ac94",
        "colab": {
          "base_uri": "https://localhost:8080/"
        }
      },
      "source": [
        "import pandas as pd\n",
        "\n",
        "df = pd.read_csv('Lambda.csv')\n",
        "print(df)"
      ],
      "execution_count": null,
      "outputs": [
        {
          "output_type": "stream",
          "text": [
            "   id;name;hourly_wage;hours_worked\n",
            "0         10310;Lauren Durham;19;43\n",
            "1         18656;Grace Sellers;17;40\n",
            "2     61254;Shirley Rasmussen;16;30\n",
            "3           16886;Brian Rojas;18;47\n",
            "4       89010;Samantha Mosley;11;38\n",
            "5          87246;Louis Guzman;14;39\n",
            "6        20578;Denise Mcclure;15;40\n",
            "7         12869;James Raymond;15;32\n",
            "8          53461;Noah Collier;18;35\n",
            "9       14746;Donna Frederick;20;41\n",
            "10         71127;Shirley Beck;14;32\n",
            "11       92522;Christina Kelly;8;44\n",
            "12          22447;Brian Noble;11;39\n",
            "13            61654;Randy Key;16;38\n",
            "14        16988;Diana Stewart;14;48\n",
            "15         68619;Timothy Sosa;14;42\n",
            "16        59949;Betty Skinner;11;48\n",
            "17        81418;Janet Maxwell;12;38\n",
            "18     27267;Madison Johnston;20;37\n",
            "19     19985;Virginia Nichols;13;49\n"
          ],
          "name": "stdout"
        }
      ]
    },
    {
      "cell_type": "code",
      "metadata": {
        "id": "icRmhX0wf7XF"
      },
      "source": [
        "get_last_name = lambda x: x.split()[-1]\n",
        "df['last_name'] = df.name.apply(get_last_name)\n",
        "\n",
        "print(df)"
      ],
      "execution_count": null,
      "outputs": []
    },
    {
      "cell_type": "markdown",
      "metadata": {
        "id": "EszIxFxXM7DX"
      },
      "source": [
        "## **Applying a Lambda to a Row**\n",
        "\n",
        "We can also operate on multiple columns at once."
      ]
    },
    {
      "cell_type": "code",
      "metadata": {
        "id": "H1DOSV5nlllI"
      },
      "source": [
        "df = pd.read_csv('employees.csv')\n",
        "print(df)"
      ],
      "execution_count": null,
      "outputs": []
    },
    {
      "cell_type": "code",
      "metadata": {
        "id": "Vh7Gex6pl9QV"
      },
      "source": [
        "total_earned = lambda row: (row.hourly_wage * 40) + ((row.hourly_wage * 1.5) * (row.hours_worked - 40)) \\\n",
        "\tif row.hours_worked > 40 \\\n",
        "  else row.hourly_wage * row.hours_worked\n",
        "  \n",
        "df['total_earned'] = df.apply(total_earned, axis = 1)\n",
        "\n",
        "print(df)"
      ],
      "execution_count": null,
      "outputs": []
    },
    {
      "cell_type": "markdown",
      "metadata": {
        "id": "-kDkMCbdmLnx"
      },
      "source": [
        "## **Renaming Columns**\n",
        "\n",
        "When we get our data from other sources, we often want to change the column names."
      ]
    },
    {
      "cell_type": "code",
      "metadata": {
        "id": "EWMioRoiWsbE",
        "outputId": "e38fa13d-92c6-4f9e-d327-822550885e81",
        "colab": {
          "base_uri": "https://localhost:8080/",
          "height": 546
        }
      },
      "source": [
        "import pandas as pd\n",
        "\n",
        "df = pd.read_csv('imdb.csv')\n",
        "\n",
        "df.columns = ['ID', 'Title', 'Category', 'Year Released', 'Rating']\n",
        "\n",
        "print(df)"
      ],
      "execution_count": null,
      "outputs": [
        {
          "output_type": "error",
          "ename": "ParserError",
          "evalue": "ignored",
          "traceback": [
            "\u001b[0;31m---------------------------------------------------------------------------\u001b[0m",
            "\u001b[0;31mParserError\u001b[0m                               Traceback (most recent call last)",
            "\u001b[0;32m<ipython-input-90-8541075363cc>\u001b[0m in \u001b[0;36m<module>\u001b[0;34m()\u001b[0m\n\u001b[1;32m      1\u001b[0m \u001b[0;32mimport\u001b[0m \u001b[0mpandas\u001b[0m \u001b[0;32mas\u001b[0m \u001b[0mpd\u001b[0m\u001b[0;34m\u001b[0m\u001b[0;34m\u001b[0m\u001b[0m\n\u001b[1;32m      2\u001b[0m \u001b[0;34m\u001b[0m\u001b[0m\n\u001b[0;32m----> 3\u001b[0;31m \u001b[0mdf\u001b[0m \u001b[0;34m=\u001b[0m \u001b[0mpd\u001b[0m\u001b[0;34m.\u001b[0m\u001b[0mread_csv\u001b[0m\u001b[0;34m(\u001b[0m\u001b[0;34m'imdb.csv'\u001b[0m\u001b[0;34m)\u001b[0m\u001b[0;34m\u001b[0m\u001b[0;34m\u001b[0m\u001b[0m\n\u001b[0m\u001b[1;32m      4\u001b[0m \u001b[0;34m\u001b[0m\u001b[0m\n\u001b[1;32m      5\u001b[0m \u001b[0mdf\u001b[0m\u001b[0;34m.\u001b[0m\u001b[0mcolumns\u001b[0m \u001b[0;34m=\u001b[0m \u001b[0;34m[\u001b[0m\u001b[0;34m'ID'\u001b[0m\u001b[0;34m,\u001b[0m \u001b[0;34m'Title'\u001b[0m\u001b[0;34m,\u001b[0m \u001b[0;34m'Category'\u001b[0m\u001b[0;34m,\u001b[0m \u001b[0;34m'Year Released'\u001b[0m\u001b[0;34m,\u001b[0m \u001b[0;34m'Rating'\u001b[0m\u001b[0;34m]\u001b[0m\u001b[0;34m\u001b[0m\u001b[0;34m\u001b[0m\u001b[0m\n",
            "\u001b[0;32m/usr/local/lib/python3.6/dist-packages/pandas/io/parsers.py\u001b[0m in \u001b[0;36mread_csv\u001b[0;34m(filepath_or_buffer, sep, delimiter, header, names, index_col, usecols, squeeze, prefix, mangle_dupe_cols, dtype, engine, converters, true_values, false_values, skipinitialspace, skiprows, skipfooter, nrows, na_values, keep_default_na, na_filter, verbose, skip_blank_lines, parse_dates, infer_datetime_format, keep_date_col, date_parser, dayfirst, cache_dates, iterator, chunksize, compression, thousands, decimal, lineterminator, quotechar, quoting, doublequote, escapechar, comment, encoding, dialect, error_bad_lines, warn_bad_lines, delim_whitespace, low_memory, memory_map, float_precision)\u001b[0m\n\u001b[1;32m    684\u001b[0m     )\n\u001b[1;32m    685\u001b[0m \u001b[0;34m\u001b[0m\u001b[0m\n\u001b[0;32m--> 686\u001b[0;31m     \u001b[0;32mreturn\u001b[0m \u001b[0m_read\u001b[0m\u001b[0;34m(\u001b[0m\u001b[0mfilepath_or_buffer\u001b[0m\u001b[0;34m,\u001b[0m \u001b[0mkwds\u001b[0m\u001b[0;34m)\u001b[0m\u001b[0;34m\u001b[0m\u001b[0;34m\u001b[0m\u001b[0m\n\u001b[0m\u001b[1;32m    687\u001b[0m \u001b[0;34m\u001b[0m\u001b[0m\n\u001b[1;32m    688\u001b[0m \u001b[0;34m\u001b[0m\u001b[0m\n",
            "\u001b[0;32m/usr/local/lib/python3.6/dist-packages/pandas/io/parsers.py\u001b[0m in \u001b[0;36m_read\u001b[0;34m(filepath_or_buffer, kwds)\u001b[0m\n\u001b[1;32m    456\u001b[0m \u001b[0;34m\u001b[0m\u001b[0m\n\u001b[1;32m    457\u001b[0m     \u001b[0;32mtry\u001b[0m\u001b[0;34m:\u001b[0m\u001b[0;34m\u001b[0m\u001b[0;34m\u001b[0m\u001b[0m\n\u001b[0;32m--> 458\u001b[0;31m         \u001b[0mdata\u001b[0m \u001b[0;34m=\u001b[0m \u001b[0mparser\u001b[0m\u001b[0;34m.\u001b[0m\u001b[0mread\u001b[0m\u001b[0;34m(\u001b[0m\u001b[0mnrows\u001b[0m\u001b[0;34m)\u001b[0m\u001b[0;34m\u001b[0m\u001b[0;34m\u001b[0m\u001b[0m\n\u001b[0m\u001b[1;32m    459\u001b[0m     \u001b[0;32mfinally\u001b[0m\u001b[0;34m:\u001b[0m\u001b[0;34m\u001b[0m\u001b[0;34m\u001b[0m\u001b[0m\n\u001b[1;32m    460\u001b[0m         \u001b[0mparser\u001b[0m\u001b[0;34m.\u001b[0m\u001b[0mclose\u001b[0m\u001b[0;34m(\u001b[0m\u001b[0;34m)\u001b[0m\u001b[0;34m\u001b[0m\u001b[0;34m\u001b[0m\u001b[0m\n",
            "\u001b[0;32m/usr/local/lib/python3.6/dist-packages/pandas/io/parsers.py\u001b[0m in \u001b[0;36mread\u001b[0;34m(self, nrows)\u001b[0m\n\u001b[1;32m   1184\u001b[0m     \u001b[0;32mdef\u001b[0m \u001b[0mread\u001b[0m\u001b[0;34m(\u001b[0m\u001b[0mself\u001b[0m\u001b[0;34m,\u001b[0m \u001b[0mnrows\u001b[0m\u001b[0;34m=\u001b[0m\u001b[0;32mNone\u001b[0m\u001b[0;34m)\u001b[0m\u001b[0;34m:\u001b[0m\u001b[0;34m\u001b[0m\u001b[0;34m\u001b[0m\u001b[0m\n\u001b[1;32m   1185\u001b[0m         \u001b[0mnrows\u001b[0m \u001b[0;34m=\u001b[0m \u001b[0m_validate_integer\u001b[0m\u001b[0;34m(\u001b[0m\u001b[0;34m\"nrows\"\u001b[0m\u001b[0;34m,\u001b[0m \u001b[0mnrows\u001b[0m\u001b[0;34m)\u001b[0m\u001b[0;34m\u001b[0m\u001b[0;34m\u001b[0m\u001b[0m\n\u001b[0;32m-> 1186\u001b[0;31m         \u001b[0mret\u001b[0m \u001b[0;34m=\u001b[0m \u001b[0mself\u001b[0m\u001b[0;34m.\u001b[0m\u001b[0m_engine\u001b[0m\u001b[0;34m.\u001b[0m\u001b[0mread\u001b[0m\u001b[0;34m(\u001b[0m\u001b[0mnrows\u001b[0m\u001b[0;34m)\u001b[0m\u001b[0;34m\u001b[0m\u001b[0;34m\u001b[0m\u001b[0m\n\u001b[0m\u001b[1;32m   1187\u001b[0m \u001b[0;34m\u001b[0m\u001b[0m\n\u001b[1;32m   1188\u001b[0m         \u001b[0;31m# May alter columns / col_dict\u001b[0m\u001b[0;34m\u001b[0m\u001b[0;34m\u001b[0m\u001b[0;34m\u001b[0m\u001b[0m\n",
            "\u001b[0;32m/usr/local/lib/python3.6/dist-packages/pandas/io/parsers.py\u001b[0m in \u001b[0;36mread\u001b[0;34m(self, nrows)\u001b[0m\n\u001b[1;32m   2143\u001b[0m     \u001b[0;32mdef\u001b[0m \u001b[0mread\u001b[0m\u001b[0;34m(\u001b[0m\u001b[0mself\u001b[0m\u001b[0;34m,\u001b[0m \u001b[0mnrows\u001b[0m\u001b[0;34m=\u001b[0m\u001b[0;32mNone\u001b[0m\u001b[0;34m)\u001b[0m\u001b[0;34m:\u001b[0m\u001b[0;34m\u001b[0m\u001b[0;34m\u001b[0m\u001b[0m\n\u001b[1;32m   2144\u001b[0m         \u001b[0;32mtry\u001b[0m\u001b[0;34m:\u001b[0m\u001b[0;34m\u001b[0m\u001b[0;34m\u001b[0m\u001b[0m\n\u001b[0;32m-> 2145\u001b[0;31m             \u001b[0mdata\u001b[0m \u001b[0;34m=\u001b[0m \u001b[0mself\u001b[0m\u001b[0;34m.\u001b[0m\u001b[0m_reader\u001b[0m\u001b[0;34m.\u001b[0m\u001b[0mread\u001b[0m\u001b[0;34m(\u001b[0m\u001b[0mnrows\u001b[0m\u001b[0;34m)\u001b[0m\u001b[0;34m\u001b[0m\u001b[0;34m\u001b[0m\u001b[0m\n\u001b[0m\u001b[1;32m   2146\u001b[0m         \u001b[0;32mexcept\u001b[0m \u001b[0mStopIteration\u001b[0m\u001b[0;34m:\u001b[0m\u001b[0;34m\u001b[0m\u001b[0;34m\u001b[0m\u001b[0m\n\u001b[1;32m   2147\u001b[0m             \u001b[0;32mif\u001b[0m \u001b[0mself\u001b[0m\u001b[0;34m.\u001b[0m\u001b[0m_first_chunk\u001b[0m\u001b[0;34m:\u001b[0m\u001b[0;34m\u001b[0m\u001b[0;34m\u001b[0m\u001b[0m\n",
            "\u001b[0;32mpandas/_libs/parsers.pyx\u001b[0m in \u001b[0;36mpandas._libs.parsers.TextReader.read\u001b[0;34m()\u001b[0m\n",
            "\u001b[0;32mpandas/_libs/parsers.pyx\u001b[0m in \u001b[0;36mpandas._libs.parsers.TextReader._read_low_memory\u001b[0;34m()\u001b[0m\n",
            "\u001b[0;32mpandas/_libs/parsers.pyx\u001b[0m in \u001b[0;36mpandas._libs.parsers.TextReader._read_rows\u001b[0;34m()\u001b[0m\n",
            "\u001b[0;32mpandas/_libs/parsers.pyx\u001b[0m in \u001b[0;36mpandas._libs.parsers.TextReader._tokenize_rows\u001b[0;34m()\u001b[0m\n",
            "\u001b[0;32mpandas/_libs/parsers.pyx\u001b[0m in \u001b[0;36mpandas._libs.parsers.raise_parser_error\u001b[0;34m()\u001b[0m\n",
            "\u001b[0;31mParserError\u001b[0m: Error tokenizing data. C error: Expected 1 fields in line 61, saw 2\n"
          ]
        }
      ]
    },
    {
      "cell_type": "markdown",
      "metadata": {
        "id": "phvoLDXLM631"
      },
      "source": [
        ""
      ]
    },
    {
      "cell_type": "code",
      "metadata": {
        "id": "T8YQR8ujWszy"
      },
      "source": [
        ""
      ],
      "execution_count": null,
      "outputs": []
    }
  ]
}