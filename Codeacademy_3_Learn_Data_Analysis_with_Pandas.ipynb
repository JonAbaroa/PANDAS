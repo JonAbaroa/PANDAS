{
  "nbformat": 4,
  "nbformat_minor": 0,
  "metadata": {
    "colab": {
      "name": "Codeacademy_3_Learn Data Analysis with Pandas.ipynb",
      "provenance": [],
      "collapsed_sections": [
        "hKl-WGfjbyMa",
        "Pu7MpkMvbx_F",
        "Tu_x_2Rlbxw1",
        "MtlYOO5vbxf1",
        "cma4ChNHf7rp",
        "u8x7Vh4tf7gi",
        "o_Dx15JLf6ak",
        "h8kb7TVqf6Q3",
        "sDkgouADf6F-"
      ],
      "toc_visible": true,
      "authorship_tag": "ABX9TyMMhrAKUM0u6a/MUni8krW2",
      "include_colab_link": true
    },
    "kernelspec": {
      "name": "python3",
      "display_name": "Python 3"
    }
  },
  "cells": [
    {
      "cell_type": "markdown",
      "metadata": {
        "id": "view-in-github",
        "colab_type": "text"
      },
      "source": [
        "<a href=\"https://colab.research.google.com/github/JonAbaroa/PANDAS/blob/main/Codeacademy_3_Learn_Data_Analysis_with_Pandas.ipynb\" target=\"_parent\"><img src=\"https://colab.research.google.com/assets/colab-badge.svg\" alt=\"Open In Colab\"/></a>"
      ]
    },
    {
      "cell_type": "markdown",
      "metadata": {
        "id": "haeL-MRPaHIq"
      },
      "source": [
        "# **WORKING WITH MULTIPLE DATAFRAMES**\n"
      ]
    },
    {
      "cell_type": "markdown",
      "metadata": {
        "id": "xGdFfKAuay_w"
      },
      "source": [
        "## **Lesson**\n",
        "\n"
      ]
    },
    {
      "cell_type": "markdown",
      "metadata": {
        "id": "hKl-WGfjbyMa"
      },
      "source": [
        "### **Introduction: Multiple DataFrames**\n",
        "\n",
        "In order to efficiently store data, we often spread related information across multiple tables. In this lesson, we will learn the Pandas commands that help us work with data stored in multiple tables."
      ]
    },
    {
      "cell_type": "code",
      "metadata": {
        "id": "nPh1oh0kfYt6"
      },
      "source": [
        "import pandas as pd\n",
        "\n",
        "orders = pd.read_csv('orders.csv')\n",
        "\n",
        "products = pd.read_csv('products.csv')\n",
        "\n",
        "customers = pd.read_csv('customers.csv')\n",
        "\n",
        "print(orders)\n",
        "\n",
        "print(products)\n",
        "\n",
        "print(customers)"
      ],
      "execution_count": null,
      "outputs": []
    },
    {
      "cell_type": "code",
      "metadata": {
        "id": "hx0xNCivJxGY",
        "outputId": "3f43c669-2e82-440a-929f-48c57d071f44",
        "colab": {
          "base_uri": "https://localhost:8080/",
          "height": 77
        }
      },
      "source": [
        "products.head(1)"
      ],
      "execution_count": null,
      "outputs": [
        {
          "output_type": "execute_result",
          "data": {
            "text/html": [
              "<div>\n",
              "<style scoped>\n",
              "    .dataframe tbody tr th:only-of-type {\n",
              "        vertical-align: middle;\n",
              "    }\n",
              "\n",
              "    .dataframe tbody tr th {\n",
              "        vertical-align: top;\n",
              "    }\n",
              "\n",
              "    .dataframe thead th {\n",
              "        text-align: right;\n",
              "    }\n",
              "</style>\n",
              "<table border=\"1\" class=\"dataframe\">\n",
              "  <thead>\n",
              "    <tr style=\"text-align: right;\">\n",
              "      <th></th>\n",
              "      <th>product_id</th>\n",
              "      <th>description</th>\n",
              "      <th>price</th>\n",
              "    </tr>\n",
              "  </thead>\n",
              "  <tbody>\n",
              "    <tr>\n",
              "      <th>0</th>\n",
              "      <td>1</td>\n",
              "      <td>thing-a-ma-jig</td>\n",
              "      <td>5</td>\n",
              "    </tr>\n",
              "  </tbody>\n",
              "</table>\n",
              "</div>"
            ],
            "text/plain": [
              "   product_id     description  price\n",
              "0           1  thing-a-ma-jig      5"
            ]
          },
          "metadata": {
            "tags": []
          },
          "execution_count": 38
        }
      ]
    },
    {
      "cell_type": "code",
      "metadata": {
        "id": "c590rfVNEMyg",
        "outputId": "9b01eba5-5e98-45fc-de49-868a9397c83a",
        "colab": {
          "base_uri": "https://localhost:8080/",
          "height": 77
        }
      },
      "source": [
        "orders.head(1)"
      ],
      "execution_count": null,
      "outputs": [
        {
          "output_type": "execute_result",
          "data": {
            "text/html": [
              "<div>\n",
              "<style scoped>\n",
              "    .dataframe tbody tr th:only-of-type {\n",
              "        vertical-align: middle;\n",
              "    }\n",
              "\n",
              "    .dataframe tbody tr th {\n",
              "        vertical-align: top;\n",
              "    }\n",
              "\n",
              "    .dataframe thead th {\n",
              "        text-align: right;\n",
              "    }\n",
              "</style>\n",
              "<table border=\"1\" class=\"dataframe\">\n",
              "  <thead>\n",
              "    <tr style=\"text-align: right;\">\n",
              "      <th></th>\n",
              "      <th>order_id</th>\n",
              "      <th>customer_id</th>\n",
              "      <th>product_id</th>\n",
              "      <th>quantity</th>\n",
              "      <th>timestamp</th>\n",
              "    </tr>\n",
              "  </thead>\n",
              "  <tbody>\n",
              "    <tr>\n",
              "      <th>0</th>\n",
              "      <td>1</td>\n",
              "      <td>2</td>\n",
              "      <td>3</td>\n",
              "      <td>1</td>\n",
              "      <td>2017-01-01</td>\n",
              "    </tr>\n",
              "  </tbody>\n",
              "</table>\n",
              "</div>"
            ],
            "text/plain": [
              "   order_id  customer_id  product_id  quantity   timestamp\n",
              "0         1            2           3         1  2017-01-01"
            ]
          },
          "metadata": {
            "tags": []
          },
          "execution_count": 39
        }
      ]
    },
    {
      "cell_type": "markdown",
      "metadata": {
        "id": "Pu7MpkMvbx_F"
      },
      "source": [
        "### **Inner Merge I**"
      ]
    },
    {
      "cell_type": "code",
      "metadata": {
        "id": "OYp4Q6I3fiIo"
      },
      "source": [
        "import pandas as pd\n",
        "\n",
        "orders = pd.read_csv('orders.csv')\n",
        "\n",
        "products = pd.read_csv('products.csv')\n",
        "\n",
        "customers = pd.read_csv('customers.csv')\n",
        "\n",
        "order_3_description = \"thing-a-ma-jig\"\n",
        "order_5_phone_number = \"112-358-1321\""
      ],
      "execution_count": null,
      "outputs": []
    },
    {
      "cell_type": "markdown",
      "metadata": {
        "id": "Tu_x_2Rlbxw1"
      },
      "source": [
        "### **Inner Merge II**\n",
        "\n",
        "he .merge method looks for columns that are common between two DataFrames and then looks for rows where those column’s values are the same. It then combines the matching rows into a single row in a new table."
      ]
    },
    {
      "cell_type": "code",
      "metadata": {
        "id": "djhMbiO-fmmI",
        "outputId": "bfbb8f41-03a8-4b90-cdb5-1fc5a7d3beb3",
        "colab": {
          "base_uri": "https://localhost:8080/",
          "height": 77
        }
      },
      "source": [
        "import pandas as pd\n",
        "\n",
        "sales = pd.read_csv('sales.csv')\n",
        "targets = pd.read_csv('targets.csv')\n",
        "sales_vs_targets = pd.merge(sales, targets)\n",
        "\n",
        "#sales_vs_targets = pd.merge(sales, targets)\n",
        "\n",
        "sales.head(1)"
      ],
      "execution_count": null,
      "outputs": [
        {
          "output_type": "execute_result",
          "data": {
            "text/html": [
              "<div>\n",
              "<style scoped>\n",
              "    .dataframe tbody tr th:only-of-type {\n",
              "        vertical-align: middle;\n",
              "    }\n",
              "\n",
              "    .dataframe tbody tr th {\n",
              "        vertical-align: top;\n",
              "    }\n",
              "\n",
              "    .dataframe thead th {\n",
              "        text-align: right;\n",
              "    }\n",
              "</style>\n",
              "<table border=\"1\" class=\"dataframe\">\n",
              "  <thead>\n",
              "    <tr style=\"text-align: right;\">\n",
              "      <th></th>\n",
              "      <th>month</th>\n",
              "      <th>revenue</th>\n",
              "    </tr>\n",
              "  </thead>\n",
              "  <tbody>\n",
              "    <tr>\n",
              "      <th>0</th>\n",
              "      <td>January</td>\n",
              "      <td>300</td>\n",
              "    </tr>\n",
              "  </tbody>\n",
              "</table>\n",
              "</div>"
            ],
            "text/plain": [
              "     month  revenue\n",
              "0  January      300"
            ]
          },
          "metadata": {
            "tags": []
          },
          "execution_count": 12
        }
      ]
    },
    {
      "cell_type": "code",
      "metadata": {
        "id": "U6MyXrhcPF-5",
        "outputId": "be95bfd8-71ee-4400-937c-94cac8e300dd",
        "colab": {
          "base_uri": "https://localhost:8080/",
          "height": 77
        }
      },
      "source": [
        "targets.head(1)"
      ],
      "execution_count": null,
      "outputs": [
        {
          "output_type": "execute_result",
          "data": {
            "text/html": [
              "<div>\n",
              "<style scoped>\n",
              "    .dataframe tbody tr th:only-of-type {\n",
              "        vertical-align: middle;\n",
              "    }\n",
              "\n",
              "    .dataframe tbody tr th {\n",
              "        vertical-align: top;\n",
              "    }\n",
              "\n",
              "    .dataframe thead th {\n",
              "        text-align: right;\n",
              "    }\n",
              "</style>\n",
              "<table border=\"1\" class=\"dataframe\">\n",
              "  <thead>\n",
              "    <tr style=\"text-align: right;\">\n",
              "      <th></th>\n",
              "      <th>month</th>\n",
              "      <th>target</th>\n",
              "    </tr>\n",
              "  </thead>\n",
              "  <tbody>\n",
              "    <tr>\n",
              "      <th>0</th>\n",
              "      <td>January</td>\n",
              "      <td>310</td>\n",
              "    </tr>\n",
              "  </tbody>\n",
              "</table>\n",
              "</div>"
            ],
            "text/plain": [
              "     month  target\n",
              "0  January     310"
            ]
          },
          "metadata": {
            "tags": []
          },
          "execution_count": 13
        }
      ]
    },
    {
      "cell_type": "code",
      "metadata": {
        "id": "cg_WVUTsPEGS",
        "outputId": "fab13c9d-bf9a-4474-e9d0-3111577a71d1",
        "colab": {
          "base_uri": "https://localhost:8080/",
          "height": 77
        }
      },
      "source": [
        "sales_vs_targets.head(1)"
      ],
      "execution_count": null,
      "outputs": [
        {
          "output_type": "execute_result",
          "data": {
            "text/html": [
              "<div>\n",
              "<style scoped>\n",
              "    .dataframe tbody tr th:only-of-type {\n",
              "        vertical-align: middle;\n",
              "    }\n",
              "\n",
              "    .dataframe tbody tr th {\n",
              "        vertical-align: top;\n",
              "    }\n",
              "\n",
              "    .dataframe thead th {\n",
              "        text-align: right;\n",
              "    }\n",
              "</style>\n",
              "<table border=\"1\" class=\"dataframe\">\n",
              "  <thead>\n",
              "    <tr style=\"text-align: right;\">\n",
              "      <th></th>\n",
              "      <th>month</th>\n",
              "      <th>revenue</th>\n",
              "      <th>target</th>\n",
              "    </tr>\n",
              "  </thead>\n",
              "  <tbody>\n",
              "    <tr>\n",
              "      <th>0</th>\n",
              "      <td>January</td>\n",
              "      <td>300</td>\n",
              "      <td>310</td>\n",
              "    </tr>\n",
              "  </tbody>\n",
              "</table>\n",
              "</div>"
            ],
            "text/plain": [
              "     month  revenue  target\n",
              "0  January      300     310"
            ]
          },
          "metadata": {
            "tags": []
          },
          "execution_count": 14
        }
      ]
    },
    {
      "cell_type": "code",
      "metadata": {
        "id": "tTY6GYezO3A3",
        "outputId": "8c76a803-fd10-4e6d-8387-454f189e08d8",
        "colab": {
          "base_uri": "https://localhost:8080/",
          "height": 66
        }
      },
      "source": [
        "crushing_it = sales_vs_targets[sales_vs_targets.revenue > sales_vs_targets.target]\n",
        "print(crushing_it)"
      ],
      "execution_count": null,
      "outputs": [
        {
          "output_type": "stream",
          "text": [
            "      month  revenue  target\n",
            "1  February      290     270\n",
            "2     March      310     300\n"
          ],
          "name": "stdout"
        }
      ]
    },
    {
      "cell_type": "markdown",
      "metadata": {
        "id": "MtlYOO5vbxf1"
      },
      "source": [
        "### **Inner Merge III**"
      ]
    },
    {
      "cell_type": "code",
      "metadata": {
        "id": "_JdOaWBmfyCQ",
        "outputId": "33b62cfb-f8e3-404d-db2e-947d1c4dc014",
        "colab": {
          "base_uri": "https://localhost:8080/",
          "height": 133
        }
      },
      "source": [
        "import pandas as pd\n",
        "\n",
        "sales = pd.read_csv('sales.csv')\n",
        "\n",
        "targets = pd.read_csv('targets.csv')\n",
        "\n",
        "men_women = pd.read_csv('men_women_sales.csv')\n",
        "\n",
        "#all_data = sales.merge(targets)\\\n",
        "#\t.merge(men_women)\n",
        "\n",
        "all_data = sales.merge(targets)\\\n",
        "\t.merge(men_women)\n",
        "\n",
        "print(all_data)\n",
        "\n",
        "results = all_data[(all_data.revenue > all_data.target) & (all_data.women > all_data.men)]"
      ],
      "execution_count": null,
      "outputs": [
        {
          "output_type": "stream",
          "text": [
            "      month  revenue  target  men  women\n",
            "0   January      300     310   30     35\n",
            "1  February      290     270   29     35\n",
            "2     March      310     300   31     29\n",
            "3     April      325     350   32     28\n",
            "4       May      475     475   47     50\n",
            "5      June      495     500   49     45\n"
          ],
          "name": "stdout"
        }
      ]
    },
    {
      "cell_type": "code",
      "metadata": {
        "id": "98-QBe_RTsZo",
        "outputId": "2210b50f-c55d-47bd-c1d4-93fd0266f3af",
        "colab": {
          "base_uri": "https://localhost:8080/",
          "height": 77
        }
      },
      "source": [
        "sales.head(1)"
      ],
      "execution_count": null,
      "outputs": [
        {
          "output_type": "execute_result",
          "data": {
            "text/html": [
              "<div>\n",
              "<style scoped>\n",
              "    .dataframe tbody tr th:only-of-type {\n",
              "        vertical-align: middle;\n",
              "    }\n",
              "\n",
              "    .dataframe tbody tr th {\n",
              "        vertical-align: top;\n",
              "    }\n",
              "\n",
              "    .dataframe thead th {\n",
              "        text-align: right;\n",
              "    }\n",
              "</style>\n",
              "<table border=\"1\" class=\"dataframe\">\n",
              "  <thead>\n",
              "    <tr style=\"text-align: right;\">\n",
              "      <th></th>\n",
              "      <th>month</th>\n",
              "      <th>revenue</th>\n",
              "    </tr>\n",
              "  </thead>\n",
              "  <tbody>\n",
              "    <tr>\n",
              "      <th>0</th>\n",
              "      <td>January</td>\n",
              "      <td>300</td>\n",
              "    </tr>\n",
              "  </tbody>\n",
              "</table>\n",
              "</div>"
            ],
            "text/plain": [
              "     month  revenue\n",
              "0  January      300"
            ]
          },
          "metadata": {
            "tags": []
          },
          "execution_count": 18
        }
      ]
    },
    {
      "cell_type": "code",
      "metadata": {
        "id": "AfBHLOUjTsL5",
        "outputId": "a39b1e60-59cc-400a-e4b8-06a93121b96c",
        "colab": {
          "base_uri": "https://localhost:8080/",
          "height": 77
        }
      },
      "source": [
        "targets.head(1)"
      ],
      "execution_count": null,
      "outputs": [
        {
          "output_type": "execute_result",
          "data": {
            "text/html": [
              "<div>\n",
              "<style scoped>\n",
              "    .dataframe tbody tr th:only-of-type {\n",
              "        vertical-align: middle;\n",
              "    }\n",
              "\n",
              "    .dataframe tbody tr th {\n",
              "        vertical-align: top;\n",
              "    }\n",
              "\n",
              "    .dataframe thead th {\n",
              "        text-align: right;\n",
              "    }\n",
              "</style>\n",
              "<table border=\"1\" class=\"dataframe\">\n",
              "  <thead>\n",
              "    <tr style=\"text-align: right;\">\n",
              "      <th></th>\n",
              "      <th>month</th>\n",
              "      <th>target</th>\n",
              "    </tr>\n",
              "  </thead>\n",
              "  <tbody>\n",
              "    <tr>\n",
              "      <th>0</th>\n",
              "      <td>January</td>\n",
              "      <td>310</td>\n",
              "    </tr>\n",
              "  </tbody>\n",
              "</table>\n",
              "</div>"
            ],
            "text/plain": [
              "     month  target\n",
              "0  January     310"
            ]
          },
          "metadata": {
            "tags": []
          },
          "execution_count": 19
        }
      ]
    },
    {
      "cell_type": "code",
      "metadata": {
        "id": "rzrcxfIhTr_7",
        "outputId": "66adcedc-6f3e-4fdc-ae7b-d34f2606679e",
        "colab": {
          "base_uri": "https://localhost:8080/",
          "height": 77
        }
      },
      "source": [
        "men_women.head(1)"
      ],
      "execution_count": null,
      "outputs": [
        {
          "output_type": "execute_result",
          "data": {
            "text/html": [
              "<div>\n",
              "<style scoped>\n",
              "    .dataframe tbody tr th:only-of-type {\n",
              "        vertical-align: middle;\n",
              "    }\n",
              "\n",
              "    .dataframe tbody tr th {\n",
              "        vertical-align: top;\n",
              "    }\n",
              "\n",
              "    .dataframe thead th {\n",
              "        text-align: right;\n",
              "    }\n",
              "</style>\n",
              "<table border=\"1\" class=\"dataframe\">\n",
              "  <thead>\n",
              "    <tr style=\"text-align: right;\">\n",
              "      <th></th>\n",
              "      <th>month</th>\n",
              "      <th>men</th>\n",
              "      <th>women</th>\n",
              "    </tr>\n",
              "  </thead>\n",
              "  <tbody>\n",
              "    <tr>\n",
              "      <th>0</th>\n",
              "      <td>January</td>\n",
              "      <td>30</td>\n",
              "      <td>35</td>\n",
              "    </tr>\n",
              "  </tbody>\n",
              "</table>\n",
              "</div>"
            ],
            "text/plain": [
              "     month  men  women\n",
              "0  January   30     35"
            ]
          },
          "metadata": {
            "tags": []
          },
          "execution_count": 20
        }
      ]
    },
    {
      "cell_type": "code",
      "metadata": {
        "id": "ZBKTq6NFT6zn",
        "outputId": "d64d24c4-ce79-4ca2-bd4b-1b8eb3fe6ec3",
        "colab": {
          "base_uri": "https://localhost:8080/",
          "height": 197
        }
      },
      "source": [
        "# all_data = sales.merge(targets)\\\n",
        "#\t.merge(men_women)\n",
        "\n",
        "all_data.head()"
      ],
      "execution_count": null,
      "outputs": [
        {
          "output_type": "execute_result",
          "data": {
            "text/html": [
              "<div>\n",
              "<style scoped>\n",
              "    .dataframe tbody tr th:only-of-type {\n",
              "        vertical-align: middle;\n",
              "    }\n",
              "\n",
              "    .dataframe tbody tr th {\n",
              "        vertical-align: top;\n",
              "    }\n",
              "\n",
              "    .dataframe thead th {\n",
              "        text-align: right;\n",
              "    }\n",
              "</style>\n",
              "<table border=\"1\" class=\"dataframe\">\n",
              "  <thead>\n",
              "    <tr style=\"text-align: right;\">\n",
              "      <th></th>\n",
              "      <th>month</th>\n",
              "      <th>revenue</th>\n",
              "      <th>target</th>\n",
              "      <th>men</th>\n",
              "      <th>women</th>\n",
              "    </tr>\n",
              "  </thead>\n",
              "  <tbody>\n",
              "    <tr>\n",
              "      <th>0</th>\n",
              "      <td>January</td>\n",
              "      <td>300</td>\n",
              "      <td>310</td>\n",
              "      <td>30</td>\n",
              "      <td>35</td>\n",
              "    </tr>\n",
              "    <tr>\n",
              "      <th>1</th>\n",
              "      <td>February</td>\n",
              "      <td>290</td>\n",
              "      <td>270</td>\n",
              "      <td>29</td>\n",
              "      <td>35</td>\n",
              "    </tr>\n",
              "    <tr>\n",
              "      <th>2</th>\n",
              "      <td>March</td>\n",
              "      <td>310</td>\n",
              "      <td>300</td>\n",
              "      <td>31</td>\n",
              "      <td>29</td>\n",
              "    </tr>\n",
              "    <tr>\n",
              "      <th>3</th>\n",
              "      <td>April</td>\n",
              "      <td>325</td>\n",
              "      <td>350</td>\n",
              "      <td>32</td>\n",
              "      <td>28</td>\n",
              "    </tr>\n",
              "    <tr>\n",
              "      <th>4</th>\n",
              "      <td>May</td>\n",
              "      <td>475</td>\n",
              "      <td>475</td>\n",
              "      <td>47</td>\n",
              "      <td>50</td>\n",
              "    </tr>\n",
              "  </tbody>\n",
              "</table>\n",
              "</div>"
            ],
            "text/plain": [
              "      month  revenue  target  men  women\n",
              "0   January      300     310   30     35\n",
              "1  February      290     270   29     35\n",
              "2     March      310     300   31     29\n",
              "3     April      325     350   32     28\n",
              "4       May      475     475   47     50"
            ]
          },
          "metadata": {
            "tags": []
          },
          "execution_count": 24
        }
      ]
    },
    {
      "cell_type": "code",
      "metadata": {
        "id": "La9t7w38UYPR",
        "outputId": "9b4f9d48-716c-4ce5-d05c-7db6a587cc11",
        "colab": {
          "base_uri": "https://localhost:8080/",
          "height": 50
        }
      },
      "source": [
        "# results = all_data[(all_data.revenue > all_data.target) & (all_data.women > all_data.men)]\n",
        "\n",
        "print(results)"
      ],
      "execution_count": null,
      "outputs": [
        {
          "output_type": "stream",
          "text": [
            "      month  revenue  target  men  women\n",
            "1  February      290     270   29     35\n"
          ],
          "name": "stdout"
        }
      ]
    },
    {
      "cell_type": "markdown",
      "metadata": {
        "id": "cma4ChNHf7rp"
      },
      "source": [
        "### **Merge on Specific Columns**\n",
        "\n",
        "In the previous example, the merge function “knew” how to combine tables based on the columns that were the same between two tables. For instance, products and orders both had a column called product_id. This won’t always be true when we want to perform a merge."
      ]
    },
    {
      "cell_type": "code",
      "metadata": {
        "id": "P_6b20G4f_fZ"
      },
      "source": [
        "import pandas as pd\n",
        "\n",
        "orders2 = pd.read_csv('orders2.csv')\n",
        "\n",
        "products2 = pd.read_csv('products2.csv')\n"
      ],
      "execution_count": null,
      "outputs": []
    },
    {
      "cell_type": "code",
      "metadata": {
        "id": "YlE-FQDlVphr",
        "outputId": "8ef19ac8-471f-477f-998f-4bbed6dd9876",
        "colab": {
          "base_uri": "https://localhost:8080/",
          "height": 137
        }
      },
      "source": [
        "orders2.head(3)"
      ],
      "execution_count": null,
      "outputs": [
        {
          "output_type": "execute_result",
          "data": {
            "text/html": [
              "<div>\n",
              "<style scoped>\n",
              "    .dataframe tbody tr th:only-of-type {\n",
              "        vertical-align: middle;\n",
              "    }\n",
              "\n",
              "    .dataframe tbody tr th {\n",
              "        vertical-align: top;\n",
              "    }\n",
              "\n",
              "    .dataframe thead th {\n",
              "        text-align: right;\n",
              "    }\n",
              "</style>\n",
              "<table border=\"1\" class=\"dataframe\">\n",
              "  <thead>\n",
              "    <tr style=\"text-align: right;\">\n",
              "      <th></th>\n",
              "      <th>order_id</th>\n",
              "      <th>customer_id</th>\n",
              "      <th>product_id</th>\n",
              "      <th>quantity</th>\n",
              "      <th>timestamp</th>\n",
              "    </tr>\n",
              "  </thead>\n",
              "  <tbody>\n",
              "    <tr>\n",
              "      <th>0</th>\n",
              "      <td>1</td>\n",
              "      <td>2</td>\n",
              "      <td>3</td>\n",
              "      <td>1</td>\n",
              "      <td>2017-01-01</td>\n",
              "    </tr>\n",
              "    <tr>\n",
              "      <th>1</th>\n",
              "      <td>2</td>\n",
              "      <td>2</td>\n",
              "      <td>2</td>\n",
              "      <td>3</td>\n",
              "      <td>2017-01-01</td>\n",
              "    </tr>\n",
              "    <tr>\n",
              "      <th>2</th>\n",
              "      <td>3</td>\n",
              "      <td>3</td>\n",
              "      <td>1</td>\n",
              "      <td>1</td>\n",
              "      <td>2017-01-01</td>\n",
              "    </tr>\n",
              "  </tbody>\n",
              "</table>\n",
              "</div>"
            ],
            "text/plain": [
              "   order_id  customer_id  product_id  quantity   timestamp\n",
              "0         1            2           3         1  2017-01-01\n",
              "1         2            2           2         3  2017-01-01\n",
              "2         3            3           1         1  2017-01-01"
            ]
          },
          "metadata": {
            "tags": []
          },
          "execution_count": 27
        }
      ]
    },
    {
      "cell_type": "code",
      "metadata": {
        "id": "rMig53LAVpV1",
        "outputId": "a9921e06-e79d-43be-fb7d-0b2ea01b70a2",
        "colab": {
          "base_uri": "https://localhost:8080/",
          "height": 137
        }
      },
      "source": [
        "products2.head(3)"
      ],
      "execution_count": null,
      "outputs": [
        {
          "output_type": "execute_result",
          "data": {
            "text/html": [
              "<div>\n",
              "<style scoped>\n",
              "    .dataframe tbody tr th:only-of-type {\n",
              "        vertical-align: middle;\n",
              "    }\n",
              "\n",
              "    .dataframe tbody tr th {\n",
              "        vertical-align: top;\n",
              "    }\n",
              "\n",
              "    .dataframe thead th {\n",
              "        text-align: right;\n",
              "    }\n",
              "</style>\n",
              "<table border=\"1\" class=\"dataframe\">\n",
              "  <thead>\n",
              "    <tr style=\"text-align: right;\">\n",
              "      <th></th>\n",
              "      <th>id</th>\n",
              "      <th>description</th>\n",
              "      <th>price</th>\n",
              "    </tr>\n",
              "  </thead>\n",
              "  <tbody>\n",
              "    <tr>\n",
              "      <th>0</th>\n",
              "      <td>1</td>\n",
              "      <td>thing-a-ma-jig</td>\n",
              "      <td>5</td>\n",
              "    </tr>\n",
              "    <tr>\n",
              "      <th>1</th>\n",
              "      <td>2</td>\n",
              "      <td>whatcha-ma-call-it</td>\n",
              "      <td>10</td>\n",
              "    </tr>\n",
              "    <tr>\n",
              "      <th>2</th>\n",
              "      <td>3</td>\n",
              "      <td>doo-hickey</td>\n",
              "      <td>7</td>\n",
              "    </tr>\n",
              "  </tbody>\n",
              "</table>\n",
              "</div>"
            ],
            "text/plain": [
              "   id         description  price\n",
              "0   1      thing-a-ma-jig      5\n",
              "1   2  whatcha-ma-call-it     10\n",
              "2   3          doo-hickey      7"
            ]
          },
          "metadata": {
            "tags": []
          },
          "execution_count": 28
        }
      ]
    },
    {
      "cell_type": "code",
      "metadata": {
        "id": "KhP7Tn6iVlSG",
        "outputId": "d19962af-2f01-4c83-f1e4-fed5af315cfd",
        "colab": {
          "base_uri": "https://localhost:8080/",
          "height": 77
        }
      },
      "source": [
        "orders_products = pd.merge(orders2,products2.rename(columns={'id':'product_id'}))\n",
        "\n",
        "orders_products.head(1)"
      ],
      "execution_count": null,
      "outputs": [
        {
          "output_type": "execute_result",
          "data": {
            "text/html": [
              "<div>\n",
              "<style scoped>\n",
              "    .dataframe tbody tr th:only-of-type {\n",
              "        vertical-align: middle;\n",
              "    }\n",
              "\n",
              "    .dataframe tbody tr th {\n",
              "        vertical-align: top;\n",
              "    }\n",
              "\n",
              "    .dataframe thead th {\n",
              "        text-align: right;\n",
              "    }\n",
              "</style>\n",
              "<table border=\"1\" class=\"dataframe\">\n",
              "  <thead>\n",
              "    <tr style=\"text-align: right;\">\n",
              "      <th></th>\n",
              "      <th>order_id</th>\n",
              "      <th>customer_id</th>\n",
              "      <th>product_id</th>\n",
              "      <th>quantity</th>\n",
              "      <th>timestamp</th>\n",
              "      <th>description</th>\n",
              "      <th>price</th>\n",
              "    </tr>\n",
              "  </thead>\n",
              "  <tbody>\n",
              "    <tr>\n",
              "      <th>0</th>\n",
              "      <td>1</td>\n",
              "      <td>2</td>\n",
              "      <td>3</td>\n",
              "      <td>1</td>\n",
              "      <td>2017-01-01</td>\n",
              "      <td>doo-hickey</td>\n",
              "      <td>7</td>\n",
              "    </tr>\n",
              "  </tbody>\n",
              "</table>\n",
              "</div>"
            ],
            "text/plain": [
              "   order_id  customer_id  product_id  quantity   timestamp description  price\n",
              "0         1            2           3         1  2017-01-01  doo-hickey      7"
            ]
          },
          "metadata": {
            "tags": []
          },
          "execution_count": 30
        }
      ]
    },
    {
      "cell_type": "markdown",
      "metadata": {
        "id": "u8x7Vh4tf7gi"
      },
      "source": [
        "### **Merge on Specific Columns II**\n",
        "In the previous exercise, we learned how to use rename to merge two DataFrames whose columns don’t match.\n",
        "\n",
        "If we don’t want to do that, we have another option. We could use the keywords left_on and right_on to specify which columns we want to perform the merge on."
      ]
    },
    {
      "cell_type": "code",
      "metadata": {
        "id": "OUyqUUUfgVTv",
        "outputId": "dc6b46b1-7b9c-4e1b-9d07-60142c3d90e3",
        "colab": {
          "base_uri": "https://localhost:8080/",
          "height": 200
        }
      },
      "source": [
        "import pandas as pd\n",
        "\n",
        "orders2 = pd.read_csv('orders2.csv')\n",
        "products2 = pd.read_csv('products2.csv')\n",
        "\n",
        "# Use left_on and right_on to merge orders and products\n",
        "orders_products = pd.merge(\n",
        "\torders2,\n",
        "\tproducts2,\n",
        "\tleft_on = 'product_id',\n",
        "\tright_on = 'id',\n",
        "\tsuffixes = ['_orders', '_products']\n",
        ")\n",
        "\n",
        "print(orders_products)"
      ],
      "execution_count": null,
      "outputs": [
        {
          "output_type": "stream",
          "text": [
            "   order_id  customer_id  product_id  ...  id         description  price\n",
            "0         1            2           3  ...   3          doo-hickey      7\n",
            "1         5            3           3  ...   3          doo-hickey      7\n",
            "2         2            2           2  ...   2  whatcha-ma-call-it     10\n",
            "3         4            3           2  ...   2  whatcha-ma-call-it     10\n",
            "4         3            3           1  ...   1      thing-a-ma-jig      5\n",
            "5         7            1           1  ...   1      thing-a-ma-jig      5\n",
            "6         6            1           4  ...   4               gizmo      3\n",
            "7         8            1           4  ...   4               gizmo      3\n",
            "\n",
            "[8 rows x 8 columns]\n"
          ],
          "name": "stdout"
        }
      ]
    },
    {
      "cell_type": "code",
      "metadata": {
        "id": "SaW3WWcvOaf7",
        "outputId": "13e47e5e-4436-4a31-c224-1286f785d3b1",
        "colab": {
          "base_uri": "https://localhost:8080/",
          "height": 77
        }
      },
      "source": [
        "orders_products.head(1)"
      ],
      "execution_count": null,
      "outputs": [
        {
          "output_type": "execute_result",
          "data": {
            "text/html": [
              "<div>\n",
              "<style scoped>\n",
              "    .dataframe tbody tr th:only-of-type {\n",
              "        vertical-align: middle;\n",
              "    }\n",
              "\n",
              "    .dataframe tbody tr th {\n",
              "        vertical-align: top;\n",
              "    }\n",
              "\n",
              "    .dataframe thead th {\n",
              "        text-align: right;\n",
              "    }\n",
              "</style>\n",
              "<table border=\"1\" class=\"dataframe\">\n",
              "  <thead>\n",
              "    <tr style=\"text-align: right;\">\n",
              "      <th></th>\n",
              "      <th>order_id</th>\n",
              "      <th>customer_id</th>\n",
              "      <th>product_id</th>\n",
              "      <th>quantity</th>\n",
              "      <th>timestamp</th>\n",
              "      <th>id</th>\n",
              "      <th>description</th>\n",
              "      <th>price</th>\n",
              "    </tr>\n",
              "  </thead>\n",
              "  <tbody>\n",
              "    <tr>\n",
              "      <th>0</th>\n",
              "      <td>1</td>\n",
              "      <td>2</td>\n",
              "      <td>3</td>\n",
              "      <td>1</td>\n",
              "      <td>2017-01-01</td>\n",
              "      <td>3</td>\n",
              "      <td>doo-hickey</td>\n",
              "      <td>7</td>\n",
              "    </tr>\n",
              "  </tbody>\n",
              "</table>\n",
              "</div>"
            ],
            "text/plain": [
              "   order_id  customer_id  product_id  ...  id description  price\n",
              "0         1            2           3  ...   3  doo-hickey      7\n",
              "\n",
              "[1 rows x 8 columns]"
            ]
          },
          "metadata": {
            "tags": []
          },
          "execution_count": 38
        }
      ]
    },
    {
      "cell_type": "code",
      "metadata": {
        "id": "8VvYiHOFJDcM",
        "outputId": "539403bb-b83e-4bc3-d68d-b584eab3c1c3",
        "colab": {
          "base_uri": "https://localhost:8080/",
          "height": 77
        }
      },
      "source": [
        "orders2.head(1)"
      ],
      "execution_count": null,
      "outputs": [
        {
          "output_type": "execute_result",
          "data": {
            "text/html": [
              "<div>\n",
              "<style scoped>\n",
              "    .dataframe tbody tr th:only-of-type {\n",
              "        vertical-align: middle;\n",
              "    }\n",
              "\n",
              "    .dataframe tbody tr th {\n",
              "        vertical-align: top;\n",
              "    }\n",
              "\n",
              "    .dataframe thead th {\n",
              "        text-align: right;\n",
              "    }\n",
              "</style>\n",
              "<table border=\"1\" class=\"dataframe\">\n",
              "  <thead>\n",
              "    <tr style=\"text-align: right;\">\n",
              "      <th></th>\n",
              "      <th>order_id</th>\n",
              "      <th>customer_id</th>\n",
              "      <th>product_id</th>\n",
              "      <th>quantity</th>\n",
              "      <th>timestamp</th>\n",
              "    </tr>\n",
              "  </thead>\n",
              "  <tbody>\n",
              "    <tr>\n",
              "      <th>0</th>\n",
              "      <td>1</td>\n",
              "      <td>2</td>\n",
              "      <td>3</td>\n",
              "      <td>1</td>\n",
              "      <td>2017-01-01</td>\n",
              "    </tr>\n",
              "  </tbody>\n",
              "</table>\n",
              "</div>"
            ],
            "text/plain": [
              "   order_id  customer_id  product_id  quantity   timestamp\n",
              "0         1            2           3         1  2017-01-01"
            ]
          },
          "metadata": {
            "tags": []
          },
          "execution_count": 33
        }
      ]
    },
    {
      "cell_type": "code",
      "metadata": {
        "id": "TEDzfyS6JDUF",
        "outputId": "04f5add2-bf2b-498d-a9f2-55505a4289eb",
        "colab": {
          "base_uri": "https://localhost:8080/",
          "height": 77
        }
      },
      "source": [
        "products2.head(1)"
      ],
      "execution_count": null,
      "outputs": [
        {
          "output_type": "execute_result",
          "data": {
            "text/html": [
              "<div>\n",
              "<style scoped>\n",
              "    .dataframe tbody tr th:only-of-type {\n",
              "        vertical-align: middle;\n",
              "    }\n",
              "\n",
              "    .dataframe tbody tr th {\n",
              "        vertical-align: top;\n",
              "    }\n",
              "\n",
              "    .dataframe thead th {\n",
              "        text-align: right;\n",
              "    }\n",
              "</style>\n",
              "<table border=\"1\" class=\"dataframe\">\n",
              "  <thead>\n",
              "    <tr style=\"text-align: right;\">\n",
              "      <th></th>\n",
              "      <th>id</th>\n",
              "      <th>description</th>\n",
              "      <th>price</th>\n",
              "    </tr>\n",
              "  </thead>\n",
              "  <tbody>\n",
              "    <tr>\n",
              "      <th>0</th>\n",
              "      <td>1</td>\n",
              "      <td>thing-a-ma-jig</td>\n",
              "      <td>5</td>\n",
              "    </tr>\n",
              "  </tbody>\n",
              "</table>\n",
              "</div>"
            ],
            "text/plain": [
              "   id     description  price\n",
              "0   1  thing-a-ma-jig      5"
            ]
          },
          "metadata": {
            "tags": []
          },
          "execution_count": 34
        }
      ]
    },
    {
      "cell_type": "markdown",
      "metadata": {
        "id": "o_Dx15JLf6ak"
      },
      "source": [
        "### **Mismatched Merges**\n"
      ]
    },
    {
      "cell_type": "code",
      "metadata": {
        "id": "y_06SOtygdZL",
        "outputId": "eae012f8-fc3e-443a-fd4b-762aaa2f0354",
        "colab": {
          "base_uri": "https://localhost:8080/",
          "height": 433
        }
      },
      "source": [
        "import pandas as pd\n",
        "\n",
        "orders4 = pd.read_csv('orders4.csv')\n",
        "products4 = pd.read_csv('products4.csv')\n",
        "\n",
        "print(orders4)\n",
        "print(products4)\n",
        "\n",
        "merged_df = pd.merge(orders4, products4)\n",
        "\n",
        "print(merged_df)"
      ],
      "execution_count": null,
      "outputs": [
        {
          "output_type": "stream",
          "text": [
            "   order_id  customer_id  product_id  quantity   timestamp\n",
            "0         1            2           3         1  2017-01-01\n",
            "1         2            2           2         3  2017-01-01\n",
            "2         3            3           1         1  2017-01-01\n",
            "3         4            3           2         2  2017-02-01\n",
            "4         5            3           3         3  2017-02-01\n",
            "5         6            1           4         2  2017-03-01\n",
            "6         7            1           1         1  2017-02-02\n",
            "7         8            1           4         1  2017-02-02\n",
            "   product_id         description  price\n",
            "0           1      thing-a-ma-jig      5\n",
            "1           2  whatcha-ma-call-it     10\n",
            "2           3          doo-hickey      7\n",
            "3           4               gizmo      3\n",
            "   order_id  customer_id  product_id  ...   timestamp         description price\n",
            "0         1            2           3  ...  2017-01-01          doo-hickey     7\n",
            "1         5            3           3  ...  2017-02-01          doo-hickey     7\n",
            "2         2            2           2  ...  2017-01-01  whatcha-ma-call-it    10\n",
            "3         4            3           2  ...  2017-02-01  whatcha-ma-call-it    10\n",
            "4         3            3           1  ...  2017-01-01      thing-a-ma-jig     5\n",
            "5         7            1           1  ...  2017-02-02      thing-a-ma-jig     5\n",
            "6         6            1           4  ...  2017-03-01               gizmo     3\n",
            "7         8            1           4  ...  2017-02-02               gizmo     3\n",
            "\n",
            "[8 rows x 7 columns]\n"
          ],
          "name": "stdout"
        }
      ]
    },
    {
      "cell_type": "markdown",
      "metadata": {
        "id": "h8kb7TVqf6Q3"
      },
      "source": [
        "### **Outer Merge**\n",
        "In the previous exercise, we saw that when we merge two DataFrames whose rows don’t match perfectly, we lose the unmatched rows.\n",
        "\n",
        "This type of merge (where we only include matching rows) is called an inner merge. There are other types of merges that we can use when we want to keep information from the unmatched rows."
      ]
    },
    {
      "cell_type": "code",
      "metadata": {
        "id": "Lt2DrfhdgtT5",
        "outputId": "03b15a6e-a4e4-4e3c-9879-be175fb6541b",
        "colab": {
          "base_uri": "https://localhost:8080/",
          "height": 516
        }
      },
      "source": [
        "import pandas as pd\n",
        "\n",
        "store_a = pd.read_csv('store_a.csv')\n",
        "print(store_a)\n",
        "store_b = pd.read_csv('store_b.csv')\n",
        "print(store_b)\n",
        "\n",
        "store_a_b_outer = pd.merge(store_a, store_b, how='outer')\n",
        "\n",
        "print(store_a_b_outer)"
      ],
      "execution_count": null,
      "outputs": [
        {
          "output_type": "stream",
          "text": [
            "          item  store_a_inventory\n",
            "0       hammer                 12\n",
            "1  screwdriver                 15\n",
            "2        nails                200\n",
            "3       screws                350\n",
            "4          saw                  6\n",
            "5    duct tape                150\n",
            "6       wrench                 12\n",
            "7     pvc pipe                 54\n",
            "            item  store_b_inventory\n",
            "0         hammer                  6\n",
            "1          nails                250\n",
            "2            saw                  6\n",
            "3      duct tape                150\n",
            "4       pvc pipe                 54\n",
            "5           rake                 10\n",
            "6         shovel                 15\n",
            "7  wooden dowels                192\n",
            "             item  store_a_inventory  store_b_inventory\n",
            "0          hammer               12.0                6.0\n",
            "1     screwdriver               15.0                NaN\n",
            "2           nails              200.0              250.0\n",
            "3          screws              350.0                NaN\n",
            "4             saw                6.0                6.0\n",
            "5       duct tape              150.0              150.0\n",
            "6          wrench               12.0                NaN\n",
            "7        pvc pipe               54.0               54.0\n",
            "8            rake                NaN               10.0\n",
            "9          shovel                NaN               15.0\n",
            "10  wooden dowels                NaN              192.0\n"
          ],
          "name": "stdout"
        }
      ]
    },
    {
      "cell_type": "markdown",
      "metadata": {
        "id": "sDkgouADf6F-"
      },
      "source": [
        "### **Left and Right Merge**\n",
        "\n",
        "Let’s return to the merge of Company A and Company B.\n",
        "\n",
        "Left Merge"
      ]
    },
    {
      "cell_type": "code",
      "metadata": {
        "id": "8LBBjJlZg2Jf",
        "outputId": "ffaf8622-9b0e-434a-9206-cba89beff144",
        "colab": {
          "base_uri": "https://localhost:8080/",
          "height": 316
        }
      },
      "source": [
        "import pandas as pd\n",
        "\n",
        "store_a = pd.read_csv('store_a.csv')\n",
        "print(store_a)\n",
        "\n",
        "store_b = pd.read_csv('store_b.csv')\n",
        "print(store_b)\n",
        "\n",
        "store_a_b_left = pd.merge(store_a, store_b, how='left')\n",
        "\n",
        "store_b_a_left = pd.merge(store_b, store_a, how='left')\n",
        "\n"
      ],
      "execution_count": null,
      "outputs": [
        {
          "output_type": "stream",
          "text": [
            "          item  store_a_inventory\n",
            "0       hammer                 12\n",
            "1  screwdriver                 15\n",
            "2        nails                200\n",
            "3       screws                350\n",
            "4          saw                  6\n",
            "5    duct tape                150\n",
            "6       wrench                 12\n",
            "7     pvc pipe                 54\n",
            "            item  store_b_inventory\n",
            "0         hammer                  6\n",
            "1          nails                250\n",
            "2            saw                  6\n",
            "3      duct tape                150\n",
            "4       pvc pipe                 54\n",
            "5           rake                 10\n",
            "6         shovel                 15\n",
            "7  wooden dowels                192\n"
          ],
          "name": "stdout"
        }
      ]
    },
    {
      "cell_type": "code",
      "metadata": {
        "id": "jWndjK7CTwO_",
        "outputId": "a2a2028a-768b-4a2e-e54a-2d50635d5371",
        "colab": {
          "base_uri": "https://localhost:8080/",
          "height": 316
        }
      },
      "source": [
        "print(store_a_b_left)\n",
        "\n",
        "print(store_b_a_left)"
      ],
      "execution_count": null,
      "outputs": [
        {
          "output_type": "stream",
          "text": [
            "          item  store_a_inventory  store_b_inventory\n",
            "0       hammer                 12                6.0\n",
            "1  screwdriver                 15                NaN\n",
            "2        nails                200              250.0\n",
            "3       screws                350                NaN\n",
            "4          saw                  6                6.0\n",
            "5    duct tape                150              150.0\n",
            "6       wrench                 12                NaN\n",
            "7     pvc pipe                 54               54.0\n",
            "            item  store_b_inventory  store_a_inventory\n",
            "0         hammer                  6               12.0\n",
            "1          nails                250              200.0\n",
            "2            saw                  6                6.0\n",
            "3      duct tape                150              150.0\n",
            "4       pvc pipe                 54               54.0\n",
            "5           rake                 10                NaN\n",
            "6         shovel                 15                NaN\n",
            "7  wooden dowels                192                NaN\n"
          ],
          "name": "stdout"
        }
      ]
    },
    {
      "cell_type": "markdown",
      "metadata": {
        "id": "gvGUy9Uof53Y"
      },
      "source": [
        "### **Concatenate DataFrames**\n",
        "\n",
        "Sometimes, a dataset is broken into multiple tables. For instance, data is often split into multiple CSV files so that each download is smaller."
      ]
    },
    {
      "cell_type": "code",
      "metadata": {
        "id": "xplesw26g_h4",
        "outputId": "7e101f2b-a09c-4b3e-9a4a-de89656a40ed",
        "colab": {
          "base_uri": "https://localhost:8080/",
          "height": 200
        }
      },
      "source": [
        "import pandas as pd\n",
        "\n",
        "bakery = pd.read_csv('bakery.csv')\n",
        "print(bakery)\n",
        "\n",
        "ice_cream = pd.read_csv('ice_cream.csv')\n",
        "print(ice_cream)\n",
        "\n",
        "# Concatenate the two menus to form a new menu\n",
        "menu = pd.concat([bakery, ice_cream])\n",
        "\n"
      ],
      "execution_count": null,
      "outputs": [
        {
          "output_type": "stream",
          "text": [
            "                  item  price\n",
            "0               cookie   2.50\n",
            "1              brownie   3.50\n",
            "2        slice of cake   4.75\n",
            "3  slice of cheesecake   4.75\n",
            "4         slice of pie   5.00\n",
            "                              item  price\n",
            "0     scoop of chocolate ice cream   3.00\n",
            "1       scoop of vanilla ice cream   2.95\n",
            "2    scoop of strawberry ice cream   3.05\n",
            "3  scoop of cookie dough ice cream   3.25\n"
          ],
          "name": "stdout"
        }
      ]
    },
    {
      "cell_type": "code",
      "metadata": {
        "id": "GqKtbZBlVzdM",
        "outputId": "ec5157e9-71f4-431a-fa31-903bd210e7d4",
        "colab": {
          "base_uri": "https://localhost:8080/",
          "height": 183
        }
      },
      "source": [
        "print(menu)"
      ],
      "execution_count": null,
      "outputs": [
        {
          "output_type": "stream",
          "text": [
            "                              item  price\n",
            "0                           cookie   2.50\n",
            "1                          brownie   3.50\n",
            "2                    slice of cake   4.75\n",
            "3              slice of cheesecake   4.75\n",
            "4                     slice of pie   5.00\n",
            "0     scoop of chocolate ice cream   3.00\n",
            "1       scoop of vanilla ice cream   2.95\n",
            "2    scoop of strawberry ice cream   3.05\n",
            "3  scoop of cookie dough ice cream   3.25\n"
          ],
          "name": "stdout"
        }
      ]
    },
    {
      "cell_type": "markdown",
      "metadata": {
        "id": "dZxCJ7W9W0-N"
      },
      "source": [
        "### **Review**"
      ]
    },
    {
      "cell_type": "code",
      "metadata": {
        "id": "wixoSy_pW20d"
      },
      "source": [
        "import pandas as pd\n",
        "\n",
        "visits = pd.read_csv('visits.csv',\n",
        "                        parse_dates=[1])\n",
        "\n",
        "checkouts = pd.read_csv('checkouts.csv',\n",
        "                        parse_dates=[1])"
      ],
      "execution_count": null,
      "outputs": []
    },
    {
      "cell_type": "code",
      "metadata": {
        "id": "-uBoilKBZIe6"
      },
      "source": [
        "# Part 1: print to inspect each DataFrame\n",
        "print(visits.head(10))\n",
        "print(checkouts.head(10))"
      ],
      "execution_count": null,
      "outputs": []
    },
    {
      "cell_type": "code",
      "metadata": {
        "id": "Nsb7smoAZHla"
      },
      "source": [
        "# Part 2: merge visits and checkouts\n",
        "v_to_c = pd.merge(visits, checkouts)"
      ],
      "execution_count": null,
      "outputs": []
    },
    {
      "cell_type": "code",
      "metadata": {
        "id": "wafaW55SZHYh"
      },
      "source": [
        "# Part 3: define the column time to be the different between checkout time and visit time\n",
        "v_to_c['time'] = v_to_c.checkout_time - v_to_c.visit_time"
      ],
      "execution_count": null,
      "outputs": []
    },
    {
      "cell_type": "code",
      "metadata": {
        "id": "GLm02YxDZHCc"
      },
      "source": [
        "print(v_to_c.time.mean())"
      ],
      "execution_count": null,
      "outputs": []
    },
    {
      "cell_type": "markdown",
      "metadata": {
        "id": "LY1D2aK6aWIx"
      },
      "source": [
        "## **Quiz**"
      ]
    },
    {
      "cell_type": "markdown",
      "metadata": {
        "id": "jdKnIAYKaV7x"
      },
      "source": [
        "\n",
        "## **Project**"
      ]
    },
    {
      "cell_type": "markdown",
      "metadata": {
        "id": "ee9zVIM1bTcA"
      },
      "source": [
        "## **Ficha Tecnica**"
      ]
    },
    {
      "cell_type": "markdown",
      "metadata": {
        "id": "iEowSoAMbZS-"
      },
      "source": [
        "![image.png](data:image/png;base64,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)"
      ]
    }
  ]
}