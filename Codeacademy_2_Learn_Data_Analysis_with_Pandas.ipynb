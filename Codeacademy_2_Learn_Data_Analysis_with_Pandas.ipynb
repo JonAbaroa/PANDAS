{
  "nbformat": 4,
  "nbformat_minor": 0,
  "metadata": {
    "colab": {
      "name": "Codeacademy_2_Learn Data Analysis with Pandas.ipynb",
      "provenance": [],
      "collapsed_sections": [
        "aWFusOX03usg",
        "jidNbLfY6bAV",
        "WAcs_PZS2frq"
      ],
      "toc_visible": true,
      "authorship_tag": "ABX9TyPoqeLxqOSGgyWJNJvIC0tR",
      "include_colab_link": true
    },
    "kernelspec": {
      "name": "python3",
      "display_name": "Python 3"
    }
  },
  "cells": [
    {
      "cell_type": "markdown",
      "metadata": {
        "id": "view-in-github",
        "colab_type": "text"
      },
      "source": [
        "<a href=\"https://colab.research.google.com/github/JonAbaroa/PANDAS/blob/main/Codeacademy_2_Learn_Data_Analysis_with_Pandas.ipynb\" target=\"_parent\"><img src=\"https://colab.research.google.com/assets/colab-badge.svg\" alt=\"Open In Colab\"/></a>"
      ]
    },
    {
      "cell_type": "markdown",
      "metadata": {
        "id": "OuCD1SIa2udg"
      },
      "source": [
        "**Aggregates in Pandas**\n",
        "\n",
        "Learn the basics of aggregate functions in Pandas, which let us calculate quantities that describe groups of data."
      ]
    },
    {
      "cell_type": "markdown",
      "metadata": {
        "id": "z8J7A9YE2fFf"
      },
      "source": [
        "# **Lesson - Aggregates in Pandas**"
      ]
    },
    {
      "cell_type": "markdown",
      "metadata": {
        "id": "aWFusOX03usg"
      },
      "source": [
        "## **Introduction**\n",
        "\n",
        "This lesson you will learn about aggregates in Pandas. An aggregate statistic is a way of creating a single number that describes a group of numbers. Common aggregate statistics include mean, median, or standard deviation.\n",
        "\n",
        "You will also learn how to rearrange a DataFrame into a pivot table, which is a great way to compare data across two dimensions."
      ]
    },
    {
      "cell_type": "code",
      "metadata": {
        "id": "sKomj62g4eL3",
        "outputId": "e3218181-6db0-4659-9eab-3b6491af61ae",
        "colab": {
          "base_uri": "https://localhost:8080/",
          "height": 34
        }
      },
      "source": [
        "# Before we analyze anything, we need to import pandas\n",
        "# and load our data\n",
        "\n",
        "import pandas as pd\n",
        "\n",
        "xlsx = pd.ExcelFile(\"bspandas.xlsx\")\n",
        "print(xlsx.sheet_names)"
      ],
      "execution_count": null,
      "outputs": [
        {
          "output_type": "stream",
          "text": [
            "['bspandas2.2', 'bspandas2.3']\n"
          ],
          "name": "stdout"
        }
      ]
    },
    {
      "cell_type": "code",
      "metadata": {
        "id": "Ji4NZpVRLIpZ",
        "outputId": "c30538b5-0a63-4197-9a7f-1b502c0247f5",
        "colab": {
          "base_uri": "https://localhost:8080/",
          "height": 204
        }
      },
      "source": [
        "df.head()"
      ],
      "execution_count": null,
      "outputs": [
        {
          "output_type": "execute_result",
          "data": {
            "text/html": [
              "<div>\n",
              "<style scoped>\n",
              "    .dataframe tbody tr th:only-of-type {\n",
              "        vertical-align: middle;\n",
              "    }\n",
              "\n",
              "    .dataframe tbody tr th {\n",
              "        vertical-align: top;\n",
              "    }\n",
              "\n",
              "    .dataframe thead th {\n",
              "        text-align: right;\n",
              "    }\n",
              "</style>\n",
              "<table border=\"1\" class=\"dataframe\">\n",
              "  <thead>\n",
              "    <tr style=\"text-align: right;\">\n",
              "      <th></th>\n",
              "      <th>id</th>\n",
              "      <th>first_name</th>\n",
              "      <th>last_name</th>\n",
              "      <th>email</th>\n",
              "      <th>shoe_type</th>\n",
              "      <th>shoe_material</th>\n",
              "      <th>shoe_color</th>\n",
              "      <th>price</th>\n",
              "    </tr>\n",
              "  </thead>\n",
              "  <tbody>\n",
              "    <tr>\n",
              "      <th>0</th>\n",
              "      <td>41874</td>\n",
              "      <td>Kyle</td>\n",
              "      <td>Peck</td>\n",
              "      <td>KylePeck71@gmail.com</td>\n",
              "      <td>ballet flats</td>\n",
              "      <td>faux-leather</td>\n",
              "      <td>black</td>\n",
              "      <td>385.0</td>\n",
              "    </tr>\n",
              "    <tr>\n",
              "      <th>1</th>\n",
              "      <td>31349</td>\n",
              "      <td>Elizabeth</td>\n",
              "      <td>Velazquez</td>\n",
              "      <td>EVelazquez1971@gmail.com</td>\n",
              "      <td>boots</td>\n",
              "      <td>fabric</td>\n",
              "      <td>brown</td>\n",
              "      <td>388.0</td>\n",
              "    </tr>\n",
              "    <tr>\n",
              "      <th>2</th>\n",
              "      <td>43416</td>\n",
              "      <td>Keith</td>\n",
              "      <td>Saunders</td>\n",
              "      <td>KS4047@gmail.com</td>\n",
              "      <td>sandles</td>\n",
              "      <td>leather</td>\n",
              "      <td>navy</td>\n",
              "      <td>346.0</td>\n",
              "    </tr>\n",
              "    <tr>\n",
              "      <th>3</th>\n",
              "      <td>56054</td>\n",
              "      <td>Ryan</td>\n",
              "      <td>Sweeney</td>\n",
              "      <td>RyanSweeney14@outlook.com</td>\n",
              "      <td>sandles</td>\n",
              "      <td>fabric</td>\n",
              "      <td>brown</td>\n",
              "      <td>344.0</td>\n",
              "    </tr>\n",
              "    <tr>\n",
              "      <th>4</th>\n",
              "      <td>77402</td>\n",
              "      <td>Donna</td>\n",
              "      <td>Blankenship</td>\n",
              "      <td>DB3807@gmail.com</td>\n",
              "      <td>stilettos</td>\n",
              "      <td>fabric</td>\n",
              "      <td>brown</td>\n",
              "      <td>289.0</td>\n",
              "    </tr>\n",
              "  </tbody>\n",
              "</table>\n",
              "</div>"
            ],
            "text/plain": [
              "      id first_name    last_name  ... shoe_material shoe_color  price\n",
              "0  41874       Kyle         Peck  ...  faux-leather      black  385.0\n",
              "1  31349  Elizabeth    Velazquez  ...        fabric      brown  388.0\n",
              "2  43416      Keith     Saunders  ...       leather       navy  346.0\n",
              "3  56054       Ryan      Sweeney  ...        fabric      brown  344.0\n",
              "4  77402      Donna  Blankenship  ...        fabric      brown  289.0\n",
              "\n",
              "[5 rows x 8 columns]"
            ]
          },
          "metadata": {
            "tags": []
          },
          "execution_count": 78
        }
      ]
    },
    {
      "cell_type": "code",
      "metadata": {
        "id": "odoFfU4-LClF",
        "outputId": "4b6e90cc-5822-42f9-a201-f265b6f90833",
        "colab": {
          "base_uri": "https://localhost:8080/",
          "height": 238
        }
      },
      "source": [
        "df2=xlsx.parse(\"bspandas2.2\")\n",
        "print(df2)"
      ],
      "execution_count": null,
      "outputs": [
        {
          "output_type": "stream",
          "text": [
            "      id first_name    last_name  ... shoe_material shoe_color  price\n",
            "0  41874       Kyle         Peck  ...  faux-leather      black  385.0\n",
            "1  31349  Elizabeth    Velazquez  ...        fabric      brown  388.0\n",
            "2  43416      Keith     Saunders  ...       leather       navy  346.0\n",
            "3  56054       Ryan      Sweeney  ...        fabric      brown  344.0\n",
            "4  77402      Donna  Blankenship  ...        fabric      brown  289.0\n",
            "5  97148     Albert       Dillon  ...        fabric      brown  266.0\n",
            "6  19998     Judith       Hewitt  ...       leather      black  395.0\n",
            "7  83290      Kayla       Hardin  ...       leather      white  241.0\n",
            "8  77867     Steven  Blankenship  ...       leather       navy  266.0\n",
            "9  54885      Carol   Mclaughlin  ...  faux-leather      brown  440.0\n",
            "\n",
            "[10 rows x 8 columns]\n"
          ],
          "name": "stdout"
        }
      ]
    },
    {
      "cell_type": "code",
      "metadata": {
        "id": "BnGevmgNLiyg",
        "outputId": "df02466a-4ea7-44f7-c2f8-d28508c9a17e",
        "colab": {
          "base_uri": "https://localhost:8080/",
          "height": 80
        }
      },
      "source": [
        "df2.head(1)"
      ],
      "execution_count": null,
      "outputs": [
        {
          "output_type": "execute_result",
          "data": {
            "text/html": [
              "<div>\n",
              "<style scoped>\n",
              "    .dataframe tbody tr th:only-of-type {\n",
              "        vertical-align: middle;\n",
              "    }\n",
              "\n",
              "    .dataframe tbody tr th {\n",
              "        vertical-align: top;\n",
              "    }\n",
              "\n",
              "    .dataframe thead th {\n",
              "        text-align: right;\n",
              "    }\n",
              "</style>\n",
              "<table border=\"1\" class=\"dataframe\">\n",
              "  <thead>\n",
              "    <tr style=\"text-align: right;\">\n",
              "      <th></th>\n",
              "      <th>id</th>\n",
              "      <th>first_name</th>\n",
              "      <th>last_name</th>\n",
              "      <th>email</th>\n",
              "      <th>shoe_type</th>\n",
              "      <th>shoe_material</th>\n",
              "      <th>shoe_color</th>\n",
              "      <th>price</th>\n",
              "    </tr>\n",
              "  </thead>\n",
              "  <tbody>\n",
              "    <tr>\n",
              "      <th>0</th>\n",
              "      <td>41874</td>\n",
              "      <td>Kyle</td>\n",
              "      <td>Peck</td>\n",
              "      <td>KylePeck71@gmail.com</td>\n",
              "      <td>ballet flats</td>\n",
              "      <td>faux-leather</td>\n",
              "      <td>black</td>\n",
              "      <td>385.0</td>\n",
              "    </tr>\n",
              "  </tbody>\n",
              "</table>\n",
              "</div>"
            ],
            "text/plain": [
              "      id first_name last_name  ... shoe_material shoe_color  price\n",
              "0  41874       Kyle      Peck  ...  faux-leather      black  385.0\n",
              "\n",
              "[1 rows x 8 columns]"
            ]
          },
          "metadata": {
            "tags": []
          },
          "execution_count": 80
        }
      ]
    },
    {
      "cell_type": "code",
      "metadata": {
        "id": "UXWwNbbbLbKQ",
        "outputId": "ba07a69a-ebd9-446b-d753-ca0c32138014",
        "colab": {
          "base_uri": "https://localhost:8080/",
          "height": 238
        }
      },
      "source": [
        "df3=xlsx.parse(\"bspandas2.3\")\n",
        "print(df3)"
      ],
      "execution_count": null,
      "outputs": [
        {
          "output_type": "stream",
          "text": [
            "      id first_name  ...         month utm_source\n",
            "0  10043      Louis  ...     3 - March      yahoo\n",
            "1  10150      Bruce  ...     3 - March    twitter\n",
            "2  10155   Nicholas  ...  2 - February     google\n",
            "3  10178    William  ...     3 - March      yahoo\n",
            "4  10208      Karen  ...  2 - February     google\n",
            "5  10260   Benjamin  ...   1 - January    twitter\n",
            "6  10271     Gerald  ...     3 - March     google\n",
            "7  10278    Melissa  ...  2 - February      email\n",
            "8  10320       Adam  ...     3 - March      email\n",
            "9  10389      Ethan  ...  2 - February   facebook\n",
            "\n",
            "[10 rows x 6 columns]\n"
          ],
          "name": "stdout"
        }
      ]
    },
    {
      "cell_type": "code",
      "metadata": {
        "id": "st53Fu7ILl_Y",
        "outputId": "df8fab17-d462-4251-cbbc-3e46e1e87b8f",
        "colab": {
          "base_uri": "https://localhost:8080/",
          "height": 80
        }
      },
      "source": [
        "df3.head(1)"
      ],
      "execution_count": null,
      "outputs": [
        {
          "output_type": "execute_result",
          "data": {
            "text/html": [
              "<div>\n",
              "<style scoped>\n",
              "    .dataframe tbody tr th:only-of-type {\n",
              "        vertical-align: middle;\n",
              "    }\n",
              "\n",
              "    .dataframe tbody tr th {\n",
              "        vertical-align: top;\n",
              "    }\n",
              "\n",
              "    .dataframe thead th {\n",
              "        text-align: right;\n",
              "    }\n",
              "</style>\n",
              "<table border=\"1\" class=\"dataframe\">\n",
              "  <thead>\n",
              "    <tr style=\"text-align: right;\">\n",
              "      <th></th>\n",
              "      <th>id</th>\n",
              "      <th>first_name</th>\n",
              "      <th>last_name</th>\n",
              "      <th>email</th>\n",
              "      <th>month</th>\n",
              "      <th>utm_source</th>\n",
              "    </tr>\n",
              "  </thead>\n",
              "  <tbody>\n",
              "    <tr>\n",
              "      <th>0</th>\n",
              "      <td>10043</td>\n",
              "      <td>Louis</td>\n",
              "      <td>Koch</td>\n",
              "      <td>LouisKoch43@gmail.com</td>\n",
              "      <td>3 - March</td>\n",
              "      <td>yahoo</td>\n",
              "    </tr>\n",
              "  </tbody>\n",
              "</table>\n",
              "</div>"
            ],
            "text/plain": [
              "      id first_name last_name                  email      month utm_source\n",
              "0  10043      Louis      Koch  LouisKoch43@gmail.com  3 - March      yahoo"
            ]
          },
          "metadata": {
            "tags": []
          },
          "execution_count": 82
        }
      ]
    },
    {
      "cell_type": "markdown",
      "metadata": {
        "id": "jidNbLfY6bAV"
      },
      "source": [
        "## **Calculating Column Statistics**\n",
        "\n",
        "In the previous lesson, you learned how to perform operations on each value in a column using apply.\n",
        "\n",
        "In this exercise, you will learn how to combine all of the values from a column for a single calculation."
      ]
    },
    {
      "cell_type": "code",
      "metadata": {
        "id": "OsBikFz5NibZ",
        "outputId": "2f7b86dd-99e9-4f65-c358-366578dde721",
        "colab": {
          "base_uri": "https://localhost:8080/",
          "height": 85
        }
      },
      "source": [
        "import pandas as pd\n",
        "\n",
        "xlsx = pd.ExcelFile(\"bspandas.xlsx\")\n",
        "\n",
        "orders=xlsx.parse(\"bspandas2.2\")\n",
        "print(orders.head(1))"
      ],
      "execution_count": null,
      "outputs": [
        {
          "output_type": "stream",
          "text": [
            "      id first_name last_name  ... shoe_material shoe_color  price\n",
            "0  41874       Kyle      Peck  ...  faux-leather      black  385.0\n",
            "\n",
            "[1 rows x 8 columns]\n"
          ],
          "name": "stdout"
        }
      ]
    },
    {
      "cell_type": "code",
      "metadata": {
        "id": "mlPv-dS2Od0e",
        "outputId": "9455aa38-12e1-4329-8d76-1bf6fb239a5b",
        "colab": {
          "base_uri": "https://localhost:8080/",
          "height": 359
        }
      },
      "source": [
        "orders.head(10)"
      ],
      "execution_count": null,
      "outputs": [
        {
          "output_type": "execute_result",
          "data": {
            "text/html": [
              "<div>\n",
              "<style scoped>\n",
              "    .dataframe tbody tr th:only-of-type {\n",
              "        vertical-align: middle;\n",
              "    }\n",
              "\n",
              "    .dataframe tbody tr th {\n",
              "        vertical-align: top;\n",
              "    }\n",
              "\n",
              "    .dataframe thead th {\n",
              "        text-align: right;\n",
              "    }\n",
              "</style>\n",
              "<table border=\"1\" class=\"dataframe\">\n",
              "  <thead>\n",
              "    <tr style=\"text-align: right;\">\n",
              "      <th></th>\n",
              "      <th>id</th>\n",
              "      <th>first_name</th>\n",
              "      <th>last_name</th>\n",
              "      <th>email</th>\n",
              "      <th>shoe_type</th>\n",
              "      <th>shoe_material</th>\n",
              "      <th>shoe_color</th>\n",
              "      <th>price</th>\n",
              "    </tr>\n",
              "  </thead>\n",
              "  <tbody>\n",
              "    <tr>\n",
              "      <th>0</th>\n",
              "      <td>41874</td>\n",
              "      <td>Kyle</td>\n",
              "      <td>Peck</td>\n",
              "      <td>KylePeck71@gmail.com</td>\n",
              "      <td>ballet flats</td>\n",
              "      <td>faux-leather</td>\n",
              "      <td>black</td>\n",
              "      <td>385.0</td>\n",
              "    </tr>\n",
              "    <tr>\n",
              "      <th>1</th>\n",
              "      <td>31349</td>\n",
              "      <td>Elizabeth</td>\n",
              "      <td>Velazquez</td>\n",
              "      <td>EVelazquez1971@gmail.com</td>\n",
              "      <td>boots</td>\n",
              "      <td>fabric</td>\n",
              "      <td>brown</td>\n",
              "      <td>388.0</td>\n",
              "    </tr>\n",
              "    <tr>\n",
              "      <th>2</th>\n",
              "      <td>43416</td>\n",
              "      <td>Keith</td>\n",
              "      <td>Saunders</td>\n",
              "      <td>KS4047@gmail.com</td>\n",
              "      <td>sandles</td>\n",
              "      <td>leather</td>\n",
              "      <td>navy</td>\n",
              "      <td>346.0</td>\n",
              "    </tr>\n",
              "    <tr>\n",
              "      <th>3</th>\n",
              "      <td>56054</td>\n",
              "      <td>Ryan</td>\n",
              "      <td>Sweeney</td>\n",
              "      <td>RyanSweeney14@outlook.com</td>\n",
              "      <td>sandles</td>\n",
              "      <td>fabric</td>\n",
              "      <td>brown</td>\n",
              "      <td>344.0</td>\n",
              "    </tr>\n",
              "    <tr>\n",
              "      <th>4</th>\n",
              "      <td>77402</td>\n",
              "      <td>Donna</td>\n",
              "      <td>Blankenship</td>\n",
              "      <td>DB3807@gmail.com</td>\n",
              "      <td>stilettos</td>\n",
              "      <td>fabric</td>\n",
              "      <td>brown</td>\n",
              "      <td>289.0</td>\n",
              "    </tr>\n",
              "    <tr>\n",
              "      <th>5</th>\n",
              "      <td>97148</td>\n",
              "      <td>Albert</td>\n",
              "      <td>Dillon</td>\n",
              "      <td>Albert.Dillon@gmail.com</td>\n",
              "      <td>wedges</td>\n",
              "      <td>fabric</td>\n",
              "      <td>brown</td>\n",
              "      <td>266.0</td>\n",
              "    </tr>\n",
              "    <tr>\n",
              "      <th>6</th>\n",
              "      <td>19998</td>\n",
              "      <td>Judith</td>\n",
              "      <td>Hewitt</td>\n",
              "      <td>JudithHewitt98@gmail.com</td>\n",
              "      <td>stilettos</td>\n",
              "      <td>leather</td>\n",
              "      <td>black</td>\n",
              "      <td>395.0</td>\n",
              "    </tr>\n",
              "    <tr>\n",
              "      <th>7</th>\n",
              "      <td>83290</td>\n",
              "      <td>Kayla</td>\n",
              "      <td>Hardin</td>\n",
              "      <td>Kayla.Hardin@gmail.com</td>\n",
              "      <td>stilettos</td>\n",
              "      <td>leather</td>\n",
              "      <td>white</td>\n",
              "      <td>241.0</td>\n",
              "    </tr>\n",
              "    <tr>\n",
              "      <th>8</th>\n",
              "      <td>77867</td>\n",
              "      <td>Steven</td>\n",
              "      <td>Blankenship</td>\n",
              "      <td>Steven.Blankenship@gmail.com</td>\n",
              "      <td>wedges</td>\n",
              "      <td>leather</td>\n",
              "      <td>navy</td>\n",
              "      <td>266.0</td>\n",
              "    </tr>\n",
              "    <tr>\n",
              "      <th>9</th>\n",
              "      <td>54885</td>\n",
              "      <td>Carol</td>\n",
              "      <td>Mclaughlin</td>\n",
              "      <td>CM3415@gmail.com</td>\n",
              "      <td>ballet flats</td>\n",
              "      <td>faux-leather</td>\n",
              "      <td>brown</td>\n",
              "      <td>440.0</td>\n",
              "    </tr>\n",
              "  </tbody>\n",
              "</table>\n",
              "</div>"
            ],
            "text/plain": [
              "      id first_name    last_name  ... shoe_material shoe_color  price\n",
              "0  41874       Kyle         Peck  ...  faux-leather      black  385.0\n",
              "1  31349  Elizabeth    Velazquez  ...        fabric      brown  388.0\n",
              "2  43416      Keith     Saunders  ...       leather       navy  346.0\n",
              "3  56054       Ryan      Sweeney  ...        fabric      brown  344.0\n",
              "4  77402      Donna  Blankenship  ...        fabric      brown  289.0\n",
              "5  97148     Albert       Dillon  ...        fabric      brown  266.0\n",
              "6  19998     Judith       Hewitt  ...       leather      black  395.0\n",
              "7  83290      Kayla       Hardin  ...       leather      white  241.0\n",
              "8  77867     Steven  Blankenship  ...       leather       navy  266.0\n",
              "9  54885      Carol   Mclaughlin  ...  faux-leather      brown  440.0\n",
              "\n",
              "[10 rows x 8 columns]"
            ]
          },
          "metadata": {
            "tags": []
          },
          "execution_count": 84
        }
      ]
    },
    {
      "cell_type": "code",
      "metadata": {
        "id": "AdB1rAT1Ofwb"
      },
      "source": [
        "most_expensive = orders.price.max()\n",
        "num_colors = orders.shoe_color.nunique()"
      ],
      "execution_count": null,
      "outputs": []
    },
    {
      "cell_type": "code",
      "metadata": {
        "id": "O_GUNA9ROlG7",
        "outputId": "b0986a2d-58b5-4c87-80f5-fd58cf1d3a1e",
        "colab": {
          "base_uri": "https://localhost:8080/",
          "height": 34
        }
      },
      "source": [
        "most_expensive"
      ],
      "execution_count": null,
      "outputs": [
        {
          "output_type": "execute_result",
          "data": {
            "text/plain": [
              "440.0"
            ]
          },
          "metadata": {
            "tags": []
          },
          "execution_count": 86
        }
      ]
    },
    {
      "cell_type": "code",
      "metadata": {
        "id": "U5HWXAV2PIda",
        "outputId": "61fb8b9a-b4e7-4432-fb4d-f38d51c6bd8e",
        "colab": {
          "base_uri": "https://localhost:8080/",
          "height": 34
        }
      },
      "source": [
        "num_colors"
      ],
      "execution_count": null,
      "outputs": [
        {
          "output_type": "execute_result",
          "data": {
            "text/plain": [
              "4"
            ]
          },
          "metadata": {
            "tags": []
          },
          "execution_count": 87
        }
      ]
    },
    {
      "cell_type": "code",
      "metadata": {
        "id": "xWgRmF-gPbD7",
        "outputId": "c7e33b1d-e030-4b35-aaa7-3a6296fffd45",
        "colab": {
          "base_uri": "https://localhost:8080/",
          "height": 153
        }
      },
      "source": [
        "print(orders.price.mean()) # Average of all values in column\n",
        "print(orders.price.std()) # Standard deviation of column\n",
        "print(orders.price.median()) # Median value of column\n",
        "print(orders.price.max()) # Maximum value in column\n",
        "print(orders.price.min()) # Minimum value in column\n",
        "print(orders.price.count()) # Number of values in column\n",
        "print(orders.price.nunique()) # Number of unique values in column\n",
        "print(orders.price.unique()) # List of unique values in column"
      ],
      "execution_count": null,
      "outputs": [
        {
          "output_type": "stream",
          "text": [
            "336.0\n",
            "67.16480559869962\n",
            "345.0\n",
            "440.0\n",
            "241.0\n",
            "10\n",
            "9\n",
            "[385. 388. 346. 344. 289. 266. 395. 241. 440.]\n"
          ],
          "name": "stdout"
        }
      ]
    },
    {
      "cell_type": "markdown",
      "metadata": {
        "id": "KO4T_oTqQ1qa"
      },
      "source": [
        "## **Calculating Aggregate Functions I**\n",
        "\n",
        "When we have a bunch of data, we often want to calculate aggregate statistics (mean, standard deviation, median, percentiles, etc.) over certain subsets of the data."
      ]
    },
    {
      "cell_type": "code",
      "metadata": {
        "id": "s3XDjfT_RdlO",
        "outputId": "4b409583-dfd2-4902-8814-8c05e99c6b83",
        "colab": {
          "base_uri": "https://localhost:8080/",
          "height": 136
        }
      },
      "source": [
        "pricey_shoes = orders.groupby('shoe_type').price.max()\n",
        "\n",
        "print(pricey_shoes)\n"
      ],
      "execution_count": null,
      "outputs": [
        {
          "output_type": "stream",
          "text": [
            "shoe_type\n",
            "ballet flats    440.0\n",
            "boots           388.0\n",
            "sandles         346.0\n",
            "stilettos       395.0\n",
            "wedges          266.0\n",
            "Name: price, dtype: float64\n"
          ],
          "name": "stdout"
        }
      ]
    },
    {
      "cell_type": "code",
      "metadata": {
        "id": "wFGxMl5dSf5y",
        "outputId": "16e6e706-2ffe-4310-dc43-80d3a0d2a939",
        "colab": {
          "base_uri": "https://localhost:8080/",
          "height": 34
        }
      },
      "source": [
        "print(type(pricey_shoes))"
      ],
      "execution_count": null,
      "outputs": [
        {
          "output_type": "stream",
          "text": [
            "<class 'pandas.core.series.Series'>\n"
          ],
          "name": "stdout"
        }
      ]
    },
    {
      "cell_type": "markdown",
      "metadata": {
        "id": "phzAlLB-TUvK"
      },
      "source": [
        "## **Calculating Aggregate Functions II -  reset_index**\n",
        "\n",
        "After using groupby, we often need to clean our resulting data."
      ]
    },
    {
      "cell_type": "code",
      "metadata": {
        "id": "lCBfSsTzTaBK",
        "outputId": "fa17172f-73fb-4722-842a-e0f424f1db79",
        "colab": {
          "base_uri": "https://localhost:8080/",
          "height": 136
        }
      },
      "source": [
        "pricey_shoes = orders.groupby('shoe_type').price.max().reset_index()\n",
        "\n",
        "print(pricey_shoes)\n",
        "\n",
        "print(type(pricey_shoes))"
      ],
      "execution_count": null,
      "outputs": [
        {
          "output_type": "stream",
          "text": [
            "      shoe_type  price\n",
            "0  ballet flats  440.0\n",
            "1         boots  388.0\n",
            "2       sandles  346.0\n",
            "3     stilettos  395.0\n",
            "4        wedges  266.0\n",
            "<class 'pandas.core.frame.DataFrame'>\n"
          ],
          "name": "stdout"
        }
      ]
    },
    {
      "cell_type": "markdown",
      "metadata": {
        "id": "nrwyxNWPTwlq"
      },
      "source": [
        "## **Calculating Aggregate Functions III - percentiles**\n",
        "\n",
        " Sometimes, the operation that you want to perform is more complicated than mean or count. In those cases, you can use the apply method and lambda functions, just like we did for individual column operations. Note that the input to our lambda function will always be a list of values.\n",
        "\n",
        "A great example of this is calculating percentiles. Suppose we have a DataFrame of employee information called df that has the following columns:\n",
        "\n",
        "id: the employee’s id number\n",
        "\n",
        "name: the employee’s name\n",
        "\n",
        "wage: the employee’s hourly wage\n",
        "\n",
        "category: the type of work that the employee does"
      ]
    },
    {
      "cell_type": "code",
      "metadata": {
        "id": "r-S6_2V9T51K",
        "outputId": "61f0125c-8bee-4f8a-8112-d244ad6cba25",
        "colab": {
          "base_uri": "https://localhost:8080/",
          "height": 85
        }
      },
      "source": [
        "import numpy as np\n",
        "import pandas as pd\n",
        "\n",
        "xlsx = pd.ExcelFile(\"bspandas.xlsx\")\n",
        "\n",
        "orders=xlsx.parse(\"bspandas2.2\")\n",
        "print(orders.head(1))"
      ],
      "execution_count": null,
      "outputs": [
        {
          "output_type": "stream",
          "text": [
            "      id first_name last_name  ... shoe_material shoe_color  price\n",
            "0  41874       Kyle      Peck  ...  faux-leather      black  385.0\n",
            "\n",
            "[1 rows x 8 columns]\n"
          ],
          "name": "stdout"
        }
      ]
    },
    {
      "cell_type": "code",
      "metadata": {
        "id": "NBX_vGPTUqcG",
        "outputId": "11716c50-1935-440b-ae76-971dc12898e7",
        "colab": {
          "base_uri": "https://localhost:8080/",
          "height": 102
        }
      },
      "source": [
        "cheap_shoes = orders.groupby('shoe_color').price.apply(lambda x: np.percentile(x, 25)).reset_index()\n",
        "\n",
        "print(cheap_shoes)"
      ],
      "execution_count": null,
      "outputs": [
        {
          "output_type": "stream",
          "text": [
            "  shoe_color  price\n",
            "0      black  387.5\n",
            "1      brown  289.0\n",
            "2       navy  286.0\n",
            "3      white  241.0\n"
          ],
          "name": "stdout"
        }
      ]
    },
    {
      "cell_type": "markdown",
      "metadata": {
        "id": "3bmzX6ijbk0z"
      },
      "source": [
        "## **Calculating Aggregate Functions IV**\n",
        "\n",
        " Sometimes, we want to group by more than one column. We can easily do this by passing a list of column names into the groupby method."
      ]
    },
    {
      "cell_type": "code",
      "metadata": {
        "id": "Lq26G5swbmui",
        "outputId": "3a7921a8-e086-410a-dfca-d9c455715b21",
        "colab": {
          "base_uri": "https://localhost:8080/",
          "height": 204
        }
      },
      "source": [
        "import numpy as np\n",
        "import pandas as pd\n",
        "\n",
        "xlsx = pd.ExcelFile(\"bspandas.xlsx\")\n",
        "\n",
        "orders=xlsx.parse(\"bspandas2.2\")\n",
        "\n",
        "shoe_counts = orders.groupby(['shoe_type', 'shoe_color']).id.count().reset_index()\n",
        "\n",
        "print(shoe_counts)"
      ],
      "execution_count": null,
      "outputs": [
        {
          "output_type": "stream",
          "text": [
            "      shoe_type shoe_color  id\n",
            "0  ballet flats      black   1\n",
            "1  ballet flats      brown   1\n",
            "2         boots      brown   1\n",
            "3       sandles      brown   1\n",
            "4       sandles       navy   1\n",
            "5     stilettos      black   1\n",
            "6     stilettos      brown   1\n",
            "7     stilettos      white   1\n",
            "8        wedges      brown   1\n",
            "9        wedges       navy   1\n"
          ],
          "name": "stdout"
        }
      ]
    },
    {
      "cell_type": "markdown",
      "metadata": {
        "id": "4Uksz5k3cDEI"
      },
      "source": [
        "## **Pivot Tables**\n",
        "\n",
        "When we perform a groupby across multiple columns, we often want to change how our data is stored."
      ]
    },
    {
      "cell_type": "code",
      "metadata": {
        "id": "5FTRDn8CcEzg",
        "outputId": "1f8945b9-a115-4aef-af7d-c84464077255",
        "colab": {
          "base_uri": "https://localhost:8080/",
          "height": 119
        }
      },
      "source": [
        "import numpy as np\n",
        "import pandas as pd\n",
        "\n",
        "xlsx = pd.ExcelFile(\"bspandas.xlsx\")\n",
        "\n",
        "orders=xlsx.parse(\"bspandas2.2\")\n",
        "\n",
        "shoe_counts = orders.groupby(['shoe_type', 'shoe_color']).id.count().reset_index()\n",
        "\n",
        "shoe_counts_pivot = shoe_counts.pivot(\n",
        "  columns = 'shoe_color',\n",
        "  index = 'shoe_type',\n",
        "  values = 'id').reset_index()\n",
        "\n",
        "print(shoe_counts_pivot)"
      ],
      "execution_count": null,
      "outputs": [
        {
          "output_type": "stream",
          "text": [
            "shoe_color     shoe_type  black  brown  navy  white\n",
            "0           ballet flats    1.0    1.0   NaN    NaN\n",
            "1                  boots    NaN    1.0   NaN    NaN\n",
            "2                sandles    NaN    1.0   1.0    NaN\n",
            "3              stilettos    1.0    1.0   NaN    1.0\n",
            "4                 wedges    NaN    1.0   1.0    NaN\n"
          ],
          "name": "stdout"
        }
      ]
    },
    {
      "cell_type": "markdown",
      "metadata": {
        "id": "OfuI09ZCcWLn"
      },
      "source": [
        "## **Review**\n",
        "\n",
        "This lesson introduced you to aggregates in Pandas. You learned:\n",
        "\n",
        "How to perform aggregate statistics over individual rows with the same value using groupby.\n",
        "How to rearrange a DataFrame into a pivot table, a great way to compare data across two dimensions."
      ]
    },
    {
      "cell_type": "code",
      "metadata": {
        "id": "KT6cDizccXnY"
      },
      "source": [
        "import pandas as pd\n",
        "\n",
        "xlsx = pd.ExcelFile(\"bspandas.xlsx\")\n",
        "\n",
        "user_visits=xlsx.parse(\"bspandas2.3\")"
      ],
      "execution_count": null,
      "outputs": []
    },
    {
      "cell_type": "code",
      "metadata": {
        "id": "VZ8BXOyFdlhe",
        "outputId": "bfb3e4c0-55ff-4ec4-9d81-de2ed029f699",
        "colab": {
          "base_uri": "https://localhost:8080/",
          "height": 238
        }
      },
      "source": [
        "# Part 1.\n",
        "print(user_visits.head(10))"
      ],
      "execution_count": null,
      "outputs": [
        {
          "output_type": "stream",
          "text": [
            "      id first_name  ...         month utm_source\n",
            "0  10043      Louis  ...     3 - March      yahoo\n",
            "1  10150      Bruce  ...     3 - March    twitter\n",
            "2  10155   Nicholas  ...  2 - February     google\n",
            "3  10178    William  ...     3 - March      yahoo\n",
            "4  10208      Karen  ...  2 - February     google\n",
            "5  10260   Benjamin  ...   1 - January    twitter\n",
            "6  10271     Gerald  ...     3 - March     google\n",
            "7  10278    Melissa  ...  2 - February      email\n",
            "8  10320       Adam  ...     3 - March      email\n",
            "9  10389      Ethan  ...  2 - February   facebook\n",
            "\n",
            "[10 rows x 6 columns]\n"
          ],
          "name": "stdout"
        }
      ]
    },
    {
      "cell_type": "code",
      "metadata": {
        "id": "toqK6j5idzrq",
        "outputId": "8fb63221-275d-4d8d-be15-97a27affc5eb",
        "colab": {
          "base_uri": "https://localhost:8080/",
          "height": 80
        }
      },
      "source": [
        "user_visits.head(1)"
      ],
      "execution_count": null,
      "outputs": [
        {
          "output_type": "execute_result",
          "data": {
            "text/html": [
              "<div>\n",
              "<style scoped>\n",
              "    .dataframe tbody tr th:only-of-type {\n",
              "        vertical-align: middle;\n",
              "    }\n",
              "\n",
              "    .dataframe tbody tr th {\n",
              "        vertical-align: top;\n",
              "    }\n",
              "\n",
              "    .dataframe thead th {\n",
              "        text-align: right;\n",
              "    }\n",
              "</style>\n",
              "<table border=\"1\" class=\"dataframe\">\n",
              "  <thead>\n",
              "    <tr style=\"text-align: right;\">\n",
              "      <th></th>\n",
              "      <th>id</th>\n",
              "      <th>first_name</th>\n",
              "      <th>last_name</th>\n",
              "      <th>email</th>\n",
              "      <th>month</th>\n",
              "      <th>utm_source</th>\n",
              "    </tr>\n",
              "  </thead>\n",
              "  <tbody>\n",
              "    <tr>\n",
              "      <th>0</th>\n",
              "      <td>10043</td>\n",
              "      <td>Louis</td>\n",
              "      <td>Koch</td>\n",
              "      <td>LouisKoch43@gmail.com</td>\n",
              "      <td>3 - March</td>\n",
              "      <td>yahoo</td>\n",
              "    </tr>\n",
              "  </tbody>\n",
              "</table>\n",
              "</div>"
            ],
            "text/plain": [
              "      id first_name last_name                  email      month utm_source\n",
              "0  10043      Louis      Koch  LouisKoch43@gmail.com  3 - March      yahoo"
            ]
          },
          "metadata": {
            "tags": []
          },
          "execution_count": 100
        }
      ]
    },
    {
      "cell_type": "code",
      "metadata": {
        "id": "KeBppxxydnnt",
        "outputId": "b56d5bfc-2417-4a18-cb81-5351f6a56230",
        "colab": {
          "base_uri": "https://localhost:8080/",
          "height": 119
        }
      },
      "source": [
        "# Part 2.\n",
        "click_source = user_visits.groupby('utm_source').id.count().reset_index()\n",
        "\n",
        "#Part 3.\n",
        "print(click_source)"
      ],
      "execution_count": null,
      "outputs": [
        {
          "output_type": "stream",
          "text": [
            "  utm_source  id\n",
            "0      email   2\n",
            "1   facebook   1\n",
            "2     google   3\n",
            "3    twitter   2\n",
            "4      yahoo   2\n"
          ],
          "name": "stdout"
        }
      ]
    },
    {
      "cell_type": "code",
      "metadata": {
        "id": "fg43tSJkgJDG",
        "outputId": "a7a20444-3571-4661-c153-5c8efae5576f",
        "colab": {
          "base_uri": "https://localhost:8080/",
          "height": 170
        }
      },
      "source": [
        "#Part 4.\n",
        "click_source_by_month = user_visits.groupby(['utm_source', 'month']).id.count().reset_index()\n",
        "\n",
        "print(click_source_by_month)"
      ],
      "execution_count": null,
      "outputs": [
        {
          "output_type": "stream",
          "text": [
            "  utm_source         month  id\n",
            "0      email  2 - February   1\n",
            "1      email     3 - March   1\n",
            "2   facebook  2 - February   1\n",
            "3     google  2 - February   2\n",
            "4     google     3 - March   1\n",
            "5    twitter   1 - January   1\n",
            "6    twitter     3 - March   1\n",
            "7      yahoo     3 - March   2\n"
          ],
          "name": "stdout"
        }
      ]
    },
    {
      "cell_type": "code",
      "metadata": {
        "id": "APx8ErrZgPMa",
        "outputId": "e5cd3283-e2cc-4eac-9348-c985096c3f1f",
        "colab": {
          "base_uri": "https://localhost:8080/",
          "height": 119
        }
      },
      "source": [
        "#Part 5.\n",
        "click_source_by_month_pivot = click_source_by_month.pivot(\n",
        "\tcolumns = 'month',\n",
        "\tindex = 'utm_source',\n",
        "\tvalues = 'id').reset_index()\n",
        " \n",
        " #Part 6.\n",
        "print(click_source_by_month_pivot)"
      ],
      "execution_count": null,
      "outputs": [
        {
          "output_type": "stream",
          "text": [
            "month utm_source  1 - January  2 - February  3 - March\n",
            "0          email          NaN           1.0        1.0\n",
            "1       facebook          NaN           1.0        NaN\n",
            "2         google          NaN           2.0        1.0\n",
            "3        twitter          1.0           NaN        1.0\n",
            "4          yahoo          NaN           NaN        2.0\n"
          ],
          "name": "stdout"
        }
      ]
    },
    {
      "cell_type": "markdown",
      "metadata": {
        "id": "NK-6wOwN2tj5"
      },
      "source": [
        "# **Quiz - Aggregates in Pandas**"
      ]
    },
    {
      "cell_type": "code",
      "metadata": {
        "id": "VbCje0wwjLor"
      },
      "source": [
        ""
      ],
      "execution_count": null,
      "outputs": []
    },
    {
      "cell_type": "markdown",
      "metadata": {
        "id": "QM2hEey22fgk"
      },
      "source": [
        "# **Project - A/B Testing for ShoeFly.com**"
      ]
    },
    {
      "cell_type": "code",
      "metadata": {
        "id": "8wxc8dGQjMNM"
      },
      "source": [
        ""
      ],
      "execution_count": null,
      "outputs": []
    },
    {
      "cell_type": "markdown",
      "metadata": {
        "id": "WAcs_PZS2frq"
      },
      "source": [
        "# **Ficha Tecnica - Cheatsheet**"
      ]
    },
    {
      "cell_type": "code",
      "metadata": {
        "id": "xdvGsu-L5TF8",
        "outputId": "59d06c78-5956-4753-cbc8-ad67d1baa84b",
        "colab": {
          "base_uri": "https://localhost:8080/",
          "height": 131
        }
      },
      "source": [
        "df = pd.DataFrame([\n",
        "  [\"Amy\",\"Assignment 1\",75],\n",
        "  [\"Amy\",\"Assignment 2\",35],\n",
        "  [\"Bob\",\"Assignment 1\",99],\n",
        "  [\"Bob\",\"Assignment 2\",35]\n",
        "  ], columns=[\"Name\", \"Assignment\", \"Grade\"])\n",
        "\n",
        "df.groupby('Name').Grade.mean()\n",
        "\n",
        "# output of the groupby command\n",
        "|Name | Grade|\n",
        "| -  | - |\n",
        "|Amy | 55|\n",
        "|Bob |  67|\n",
        "\n",
        "df.columnName.mean() # Average of all values in column\n",
        "df.columnName.std() # Standard deviation of column\n",
        "df.columnName.median() # Median value of column\n",
        "df.columnName.max() # Maximum value in column\n",
        "df.columnName.min() # Minimum value in column\n",
        "df.columnName.count() # Number of values in column\n",
        "df.columnName.nunique() # Number of unique values in column\n",
        "df.columnName.unique() # List of unique values in column"
      ],
      "execution_count": null,
      "outputs": [
        {
          "output_type": "error",
          "ename": "SyntaxError",
          "evalue": "ignored",
          "traceback": [
            "\u001b[0;36m  File \u001b[0;32m\"<ipython-input-99-95fc5645b9bc>\"\u001b[0;36m, line \u001b[0;32m11\u001b[0m\n\u001b[0;31m    |Name | Grade|\u001b[0m\n\u001b[0m    ^\u001b[0m\n\u001b[0;31mSyntaxError\u001b[0m\u001b[0;31m:\u001b[0m invalid syntax\n"
          ]
        }
      ]
    },
    {
      "cell_type": "markdown",
      "metadata": {
        "id": "SOzWKXKS2jya"
      },
      "source": [
        "![image.png](data:image/png;base64,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)"
      ]
    }
  ]
}